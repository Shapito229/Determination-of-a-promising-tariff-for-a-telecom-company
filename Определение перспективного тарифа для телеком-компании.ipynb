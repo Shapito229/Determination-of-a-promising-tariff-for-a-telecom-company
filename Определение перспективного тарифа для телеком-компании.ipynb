{
 "cells": [
  {
   "cell_type": "markdown",
   "metadata": {
    "toc": true
   },
   "source": [
    "<h1>Table of Contents<span class=\"tocSkip\"></span></h1>\n",
    "<div class=\"toc\"><ul class=\"toc-item\"><li><span><a href=\"#Шаг-1.Откройте-файл-с-данными-и-изучите-общую-информацию\" data-toc-modified-id=\"Шаг-1.Откройте-файл-с-данными-и-изучите-общую-информацию-1\"><span class=\"toc-item-num\">1&nbsp;&nbsp;</span><strong>Шаг 1.Откройте файл с данными и изучите общую информацию</strong></a></span></li><li><span><a href=\"#Шаг-2.-Подготовьте-данные\" data-toc-modified-id=\"Шаг-2.-Подготовьте-данные-2\"><span class=\"toc-item-num\">2&nbsp;&nbsp;</span><strong>Шаг 2. Подготовьте данные</strong></a></span><ul class=\"toc-item\"><li><span><a href=\"#Таблица:-data_calls\" data-toc-modified-id=\"Таблица:-data_calls-2.1\"><span class=\"toc-item-num\">2.1&nbsp;&nbsp;</span>Таблица: data_calls</a></span></li><li><span><a href=\"#Таблица:-data_internet\" data-toc-modified-id=\"Таблица:-data_internet-2.2\"><span class=\"toc-item-num\">2.2&nbsp;&nbsp;</span>Таблица: data_internet</a></span></li><li><span><a href=\"#Таблица:-data_messages\" data-toc-modified-id=\"Таблица:-data_messages-2.3\"><span class=\"toc-item-num\">2.3&nbsp;&nbsp;</span>Таблица: data_messages</a></span></li><li><span><a href=\"#Вычислить-помесячную-выручку-с-каждого-пользователя-(вычтите-бесплатный-лимит-из-суммарного-количества-звонков,-сообщений-и-интернет-трафика;-остаток-умножьте-на-значение-из-тарифного-плана;-прибавьте-абонентскую-плату,-соответствующую-тарифному-плану).\" data-toc-modified-id=\"Вычислить-помесячную-выручку-с-каждого-пользователя-(вычтите-бесплатный-лимит-из-суммарного-количества-звонков,-сообщений-и-интернет-трафика;-остаток-умножьте-на-значение-из-тарифного-плана;-прибавьте-абонентскую-плату,-соответствующую-тарифному-плану).-2.4\"><span class=\"toc-item-num\">2.4&nbsp;&nbsp;</span>Вычислить помесячную выручку с каждого пользователя (вычтите бесплатный лимит из суммарного количества звонков, сообщений и интернет-трафика; остаток умножьте на значение из тарифного плана; прибавьте абонентскую плату, соответствующую тарифному плану).</a></span></li></ul></li><li><span><a href=\"#Шаг-3.-Проанализируйте-данные.-Опишите-поведение-клиентов-оператора,-исходя-из-выборки.-Сколько-минут-разговора,-сколько-сообщений-и-какой-объём-интернет-трафика-требуется-пользователям-каждого-тарифа-в-месяц?-Посчитайте-среднее-количество,-дисперсию-и-стандартное-отклонение.-Постройте-гистограммы.-Опишите-распределения.**\" data-toc-modified-id=\"Шаг-3.-Проанализируйте-данные.-Опишите-поведение-клиентов-оператора,-исходя-из-выборки.-Сколько-минут-разговора,-сколько-сообщений-и-какой-объём-интернет-трафика-требуется-пользователям-каждого-тарифа-в-месяц?-Посчитайте-среднее-количество,-дисперсию-и-стандартное-отклонение.-Постройте-гистограммы.-Опишите-распределения.**-3\"><span class=\"toc-item-num\">3&nbsp;&nbsp;</span>Шаг 3. Проанализируйте данные. Опишите поведение клиентов оператора, исходя из выборки. Сколько минут разговора, сколько сообщений и какой объём интернет-трафика требуется пользователям каждого тарифа в месяц? Посчитайте среднее количество, дисперсию и стандартное отклонение. Постройте гистограммы. Опишите распределения.**</a></span></li><li><span><a href=\"#Шаг-4.-Проверьте-гипотезы\" data-toc-modified-id=\"Шаг-4.-Проверьте-гипотезы-4\"><span class=\"toc-item-num\">4&nbsp;&nbsp;</span>Шаг 4. Проверьте гипотезы</a></span><ul class=\"toc-item\"><li><span><a href=\"#Гипотеза-1:-средняя-выручка-пользователей-тарифов-«Ультра»-и-«Смарт»-различается.\" data-toc-modified-id=\"Гипотеза-1:-средняя-выручка-пользователей-тарифов-«Ультра»-и-«Смарт»-различается.-4.1\"><span class=\"toc-item-num\">4.1&nbsp;&nbsp;</span>Гипотеза 1: средняя выручка пользователей тарифов «Ультра» и «Смарт» различается.</a></span></li><li><span><a href=\"#Гипотеза-2:-средняя-выручка-пользователей-из-Москвы-отличается-от-выручки-пользователей-из-других-регионов;\" data-toc-modified-id=\"Гипотеза-2:-средняя-выручка-пользователей-из-Москвы-отличается-от-выручки-пользователей-из-других-регионов;-4.2\"><span class=\"toc-item-num\">4.2&nbsp;&nbsp;</span>Гипотеза 2: средняя выручка пользователей из Москвы отличается от выручки пользователей из других регионов;</a></span></li></ul></li><li><span><a href=\"#Общий-вывод\" data-toc-modified-id=\"Общий-вывод-5\"><span class=\"toc-item-num\">5&nbsp;&nbsp;</span>Общий вывод</a></span></li><li><span><a href=\"#Вывод-по-работе\" data-toc-modified-id=\"Вывод-по-работе-6\"><span class=\"toc-item-num\">6&nbsp;&nbsp;</span>Вывод по работе</a></span></li></ul></div>"
   ]
  },
  {
   "cell_type": "markdown",
   "metadata": {},
   "source": [
    "**Определение перспективного тарифа для телеком компании**"
   ]
  },
  {
   "cell_type": "markdown",
   "metadata": {},
   "source": [
    "## **Шаг 1.Откройте файл с данными и изучите общую информацию**"
   ]
  },
  {
   "cell_type": "code",
   "execution_count": 1,
   "metadata": {},
   "outputs": [],
   "source": [
    "#прописываем нужные нам библиотеки \n",
    "import pandas as pd\n",
    "import matplotlib.pyplot as plt\n",
    "import seaborn as sns\n",
    "from decimal import Decimal\n",
    "import math\n",
    "import numpy as np\n",
    "from scipy import stats as st\n"
   ]
  },
  {
   "cell_type": "code",
   "execution_count": 2,
   "metadata": {},
   "outputs": [],
   "source": [
    "#прочитываем датафрейм \n",
    "df=pd.read_csv('/datasets/calls.csv')\n",
    "df1=pd.read_csv('/datasets/internet.csv')\n",
    "df2=pd.read_csv('/datasets/messages.csv')\n",
    "df3=pd.read_csv('/datasets/tariffs.csv')\n",
    "df4=pd.read_csv('/datasets/users.csv')"
   ]
  },
  {
   "cell_type": "code",
   "execution_count": 3,
   "metadata": {},
   "outputs": [
    {
     "data": {
      "text/html": [
       "<div>\n",
       "<style scoped>\n",
       "    .dataframe tbody tr th:only-of-type {\n",
       "        vertical-align: middle;\n",
       "    }\n",
       "\n",
       "    .dataframe tbody tr th {\n",
       "        vertical-align: top;\n",
       "    }\n",
       "\n",
       "    .dataframe thead th {\n",
       "        text-align: right;\n",
       "    }\n",
       "</style>\n",
       "<table border=\"1\" class=\"dataframe\">\n",
       "  <thead>\n",
       "    <tr style=\"text-align: right;\">\n",
       "      <th></th>\n",
       "      <th>id</th>\n",
       "      <th>call_date</th>\n",
       "      <th>duration</th>\n",
       "      <th>user_id</th>\n",
       "    </tr>\n",
       "  </thead>\n",
       "  <tbody>\n",
       "    <tr>\n",
       "      <td>0</td>\n",
       "      <td>1000_0</td>\n",
       "      <td>2018-07-25</td>\n",
       "      <td>0.00</td>\n",
       "      <td>1000</td>\n",
       "    </tr>\n",
       "    <tr>\n",
       "      <td>1</td>\n",
       "      <td>1000_1</td>\n",
       "      <td>2018-08-17</td>\n",
       "      <td>0.00</td>\n",
       "      <td>1000</td>\n",
       "    </tr>\n",
       "    <tr>\n",
       "      <td>2</td>\n",
       "      <td>1000_2</td>\n",
       "      <td>2018-06-11</td>\n",
       "      <td>2.85</td>\n",
       "      <td>1000</td>\n",
       "    </tr>\n",
       "    <tr>\n",
       "      <td>3</td>\n",
       "      <td>1000_3</td>\n",
       "      <td>2018-09-21</td>\n",
       "      <td>13.80</td>\n",
       "      <td>1000</td>\n",
       "    </tr>\n",
       "    <tr>\n",
       "      <td>4</td>\n",
       "      <td>1000_4</td>\n",
       "      <td>2018-12-15</td>\n",
       "      <td>5.18</td>\n",
       "      <td>1000</td>\n",
       "    </tr>\n",
       "  </tbody>\n",
       "</table>\n",
       "</div>"
      ],
      "text/plain": [
       "       id   call_date  duration  user_id\n",
       "0  1000_0  2018-07-25      0.00     1000\n",
       "1  1000_1  2018-08-17      0.00     1000\n",
       "2  1000_2  2018-06-11      2.85     1000\n",
       "3  1000_3  2018-09-21     13.80     1000\n",
       "4  1000_4  2018-12-15      5.18     1000"
      ]
     },
     "execution_count": 3,
     "metadata": {},
     "output_type": "execute_result"
    }
   ],
   "source": [
    "df.head()"
   ]
  },
  {
   "cell_type": "code",
   "execution_count": 4,
   "metadata": {},
   "outputs": [
    {
     "data": {
      "text/html": [
       "<div>\n",
       "<style scoped>\n",
       "    .dataframe tbody tr th:only-of-type {\n",
       "        vertical-align: middle;\n",
       "    }\n",
       "\n",
       "    .dataframe tbody tr th {\n",
       "        vertical-align: top;\n",
       "    }\n",
       "\n",
       "    .dataframe thead th {\n",
       "        text-align: right;\n",
       "    }\n",
       "</style>\n",
       "<table border=\"1\" class=\"dataframe\">\n",
       "  <thead>\n",
       "    <tr style=\"text-align: right;\">\n",
       "      <th></th>\n",
       "      <th>Unnamed: 0</th>\n",
       "      <th>id</th>\n",
       "      <th>mb_used</th>\n",
       "      <th>session_date</th>\n",
       "      <th>user_id</th>\n",
       "    </tr>\n",
       "  </thead>\n",
       "  <tbody>\n",
       "    <tr>\n",
       "      <td>0</td>\n",
       "      <td>0</td>\n",
       "      <td>1000_0</td>\n",
       "      <td>112.95</td>\n",
       "      <td>2018-11-25</td>\n",
       "      <td>1000</td>\n",
       "    </tr>\n",
       "    <tr>\n",
       "      <td>1</td>\n",
       "      <td>1</td>\n",
       "      <td>1000_1</td>\n",
       "      <td>1052.81</td>\n",
       "      <td>2018-09-07</td>\n",
       "      <td>1000</td>\n",
       "    </tr>\n",
       "    <tr>\n",
       "      <td>2</td>\n",
       "      <td>2</td>\n",
       "      <td>1000_2</td>\n",
       "      <td>1197.26</td>\n",
       "      <td>2018-06-25</td>\n",
       "      <td>1000</td>\n",
       "    </tr>\n",
       "    <tr>\n",
       "      <td>3</td>\n",
       "      <td>3</td>\n",
       "      <td>1000_3</td>\n",
       "      <td>550.27</td>\n",
       "      <td>2018-08-22</td>\n",
       "      <td>1000</td>\n",
       "    </tr>\n",
       "    <tr>\n",
       "      <td>4</td>\n",
       "      <td>4</td>\n",
       "      <td>1000_4</td>\n",
       "      <td>302.56</td>\n",
       "      <td>2018-09-24</td>\n",
       "      <td>1000</td>\n",
       "    </tr>\n",
       "  </tbody>\n",
       "</table>\n",
       "</div>"
      ],
      "text/plain": [
       "   Unnamed: 0      id  mb_used session_date  user_id\n",
       "0           0  1000_0   112.95   2018-11-25     1000\n",
       "1           1  1000_1  1052.81   2018-09-07     1000\n",
       "2           2  1000_2  1197.26   2018-06-25     1000\n",
       "3           3  1000_3   550.27   2018-08-22     1000\n",
       "4           4  1000_4   302.56   2018-09-24     1000"
      ]
     },
     "execution_count": 4,
     "metadata": {},
     "output_type": "execute_result"
    }
   ],
   "source": [
    "df1.head()"
   ]
  },
  {
   "cell_type": "code",
   "execution_count": 5,
   "metadata": {},
   "outputs": [
    {
     "data": {
      "text/html": [
       "<div>\n",
       "<style scoped>\n",
       "    .dataframe tbody tr th:only-of-type {\n",
       "        vertical-align: middle;\n",
       "    }\n",
       "\n",
       "    .dataframe tbody tr th {\n",
       "        vertical-align: top;\n",
       "    }\n",
       "\n",
       "    .dataframe thead th {\n",
       "        text-align: right;\n",
       "    }\n",
       "</style>\n",
       "<table border=\"1\" class=\"dataframe\">\n",
       "  <thead>\n",
       "    <tr style=\"text-align: right;\">\n",
       "      <th></th>\n",
       "      <th>id</th>\n",
       "      <th>message_date</th>\n",
       "      <th>user_id</th>\n",
       "    </tr>\n",
       "  </thead>\n",
       "  <tbody>\n",
       "    <tr>\n",
       "      <td>0</td>\n",
       "      <td>1000_0</td>\n",
       "      <td>2018-06-27</td>\n",
       "      <td>1000</td>\n",
       "    </tr>\n",
       "    <tr>\n",
       "      <td>1</td>\n",
       "      <td>1000_1</td>\n",
       "      <td>2018-10-08</td>\n",
       "      <td>1000</td>\n",
       "    </tr>\n",
       "    <tr>\n",
       "      <td>2</td>\n",
       "      <td>1000_2</td>\n",
       "      <td>2018-08-04</td>\n",
       "      <td>1000</td>\n",
       "    </tr>\n",
       "    <tr>\n",
       "      <td>3</td>\n",
       "      <td>1000_3</td>\n",
       "      <td>2018-06-16</td>\n",
       "      <td>1000</td>\n",
       "    </tr>\n",
       "    <tr>\n",
       "      <td>4</td>\n",
       "      <td>1000_4</td>\n",
       "      <td>2018-12-05</td>\n",
       "      <td>1000</td>\n",
       "    </tr>\n",
       "  </tbody>\n",
       "</table>\n",
       "</div>"
      ],
      "text/plain": [
       "       id message_date  user_id\n",
       "0  1000_0   2018-06-27     1000\n",
       "1  1000_1   2018-10-08     1000\n",
       "2  1000_2   2018-08-04     1000\n",
       "3  1000_3   2018-06-16     1000\n",
       "4  1000_4   2018-12-05     1000"
      ]
     },
     "execution_count": 5,
     "metadata": {},
     "output_type": "execute_result"
    }
   ],
   "source": [
    "df2.head()"
   ]
  },
  {
   "cell_type": "code",
   "execution_count": 67,
   "metadata": {},
   "outputs": [
    {
     "data": {
      "text/html": [
       "<div>\n",
       "<style scoped>\n",
       "    .dataframe tbody tr th:only-of-type {\n",
       "        vertical-align: middle;\n",
       "    }\n",
       "\n",
       "    .dataframe tbody tr th {\n",
       "        vertical-align: top;\n",
       "    }\n",
       "\n",
       "    .dataframe thead th {\n",
       "        text-align: right;\n",
       "    }\n",
       "</style>\n",
       "<table border=\"1\" class=\"dataframe\">\n",
       "  <thead>\n",
       "    <tr style=\"text-align: right;\">\n",
       "      <th></th>\n",
       "      <th>messages_included</th>\n",
       "      <th>mb_per_month_included</th>\n",
       "      <th>minutes_included</th>\n",
       "      <th>rub_monthly_fee</th>\n",
       "      <th>rub_per_gb</th>\n",
       "      <th>rub_per_message</th>\n",
       "      <th>rub_per_minute</th>\n",
       "      <th>tariff_name</th>\n",
       "      <th>gb_per_month_included</th>\n",
       "    </tr>\n",
       "  </thead>\n",
       "  <tbody>\n",
       "    <tr>\n",
       "      <td>0</td>\n",
       "      <td>50</td>\n",
       "      <td>15360</td>\n",
       "      <td>500</td>\n",
       "      <td>550</td>\n",
       "      <td>200</td>\n",
       "      <td>3</td>\n",
       "      <td>3</td>\n",
       "      <td>smart</td>\n",
       "      <td>15</td>\n",
       "    </tr>\n",
       "    <tr>\n",
       "      <td>1</td>\n",
       "      <td>1000</td>\n",
       "      <td>30720</td>\n",
       "      <td>3000</td>\n",
       "      <td>1950</td>\n",
       "      <td>150</td>\n",
       "      <td>1</td>\n",
       "      <td>1</td>\n",
       "      <td>ultra</td>\n",
       "      <td>30</td>\n",
       "    </tr>\n",
       "  </tbody>\n",
       "</table>\n",
       "</div>"
      ],
      "text/plain": [
       "   messages_included  mb_per_month_included  minutes_included  \\\n",
       "0                 50                  15360               500   \n",
       "1               1000                  30720              3000   \n",
       "\n",
       "   rub_monthly_fee  rub_per_gb  rub_per_message  rub_per_minute tariff_name  \\\n",
       "0              550         200                3               3       smart   \n",
       "1             1950         150                1               1       ultra   \n",
       "\n",
       "   gb_per_month_included  \n",
       "0                     15  \n",
       "1                     30  "
      ]
     },
     "execution_count": 67,
     "metadata": {},
     "output_type": "execute_result"
    }
   ],
   "source": [
    "df3.head()"
   ]
  },
  {
   "cell_type": "code",
   "execution_count": 68,
   "metadata": {},
   "outputs": [
    {
     "data": {
      "text/html": [
       "<div>\n",
       "<style scoped>\n",
       "    .dataframe tbody tr th:only-of-type {\n",
       "        vertical-align: middle;\n",
       "    }\n",
       "\n",
       "    .dataframe tbody tr th {\n",
       "        vertical-align: top;\n",
       "    }\n",
       "\n",
       "    .dataframe thead th {\n",
       "        text-align: right;\n",
       "    }\n",
       "</style>\n",
       "<table border=\"1\" class=\"dataframe\">\n",
       "  <thead>\n",
       "    <tr style=\"text-align: right;\">\n",
       "      <th></th>\n",
       "      <th>user_id</th>\n",
       "      <th>age</th>\n",
       "      <th>churn_date</th>\n",
       "      <th>city</th>\n",
       "      <th>first_name</th>\n",
       "      <th>last_name</th>\n",
       "      <th>reg_date</th>\n",
       "      <th>tariff</th>\n",
       "    </tr>\n",
       "  </thead>\n",
       "  <tbody>\n",
       "    <tr>\n",
       "      <td>0</td>\n",
       "      <td>1000</td>\n",
       "      <td>52</td>\n",
       "      <td>NaN</td>\n",
       "      <td>Краснодар</td>\n",
       "      <td>Рафаил</td>\n",
       "      <td>Верещагин</td>\n",
       "      <td>2018-05-25</td>\n",
       "      <td>ultra</td>\n",
       "    </tr>\n",
       "    <tr>\n",
       "      <td>1</td>\n",
       "      <td>1001</td>\n",
       "      <td>41</td>\n",
       "      <td>NaN</td>\n",
       "      <td>Москва</td>\n",
       "      <td>Иван</td>\n",
       "      <td>Ежов</td>\n",
       "      <td>2018-11-01</td>\n",
       "      <td>smart</td>\n",
       "    </tr>\n",
       "    <tr>\n",
       "      <td>2</td>\n",
       "      <td>1002</td>\n",
       "      <td>59</td>\n",
       "      <td>NaN</td>\n",
       "      <td>Стерлитамак</td>\n",
       "      <td>Евгений</td>\n",
       "      <td>Абрамович</td>\n",
       "      <td>2018-06-17</td>\n",
       "      <td>smart</td>\n",
       "    </tr>\n",
       "    <tr>\n",
       "      <td>3</td>\n",
       "      <td>1003</td>\n",
       "      <td>23</td>\n",
       "      <td>NaN</td>\n",
       "      <td>Москва</td>\n",
       "      <td>Белла</td>\n",
       "      <td>Белякова</td>\n",
       "      <td>2018-08-17</td>\n",
       "      <td>ultra</td>\n",
       "    </tr>\n",
       "    <tr>\n",
       "      <td>4</td>\n",
       "      <td>1004</td>\n",
       "      <td>68</td>\n",
       "      <td>NaN</td>\n",
       "      <td>Новокузнецк</td>\n",
       "      <td>Татьяна</td>\n",
       "      <td>Авдеенко</td>\n",
       "      <td>2018-05-14</td>\n",
       "      <td>ultra</td>\n",
       "    </tr>\n",
       "  </tbody>\n",
       "</table>\n",
       "</div>"
      ],
      "text/plain": [
       "   user_id  age churn_date         city first_name  last_name    reg_date  \\\n",
       "0     1000   52        NaN    Краснодар     Рафаил  Верещагин  2018-05-25   \n",
       "1     1001   41        NaN       Москва       Иван       Ежов  2018-11-01   \n",
       "2     1002   59        NaN  Стерлитамак    Евгений  Абрамович  2018-06-17   \n",
       "3     1003   23        NaN       Москва      Белла   Белякова  2018-08-17   \n",
       "4     1004   68        NaN  Новокузнецк    Татьяна   Авдеенко  2018-05-14   \n",
       "\n",
       "  tariff  \n",
       "0  ultra  \n",
       "1  smart  \n",
       "2  smart  \n",
       "3  ultra  \n",
       "4  ultra  "
      ]
     },
     "execution_count": 68,
     "metadata": {},
     "output_type": "execute_result"
    }
   ],
   "source": [
    "df4.head()\n"
   ]
  },
  {
   "cell_type": "code",
   "execution_count": 8,
   "metadata": {},
   "outputs": [],
   "source": [
    "data_calls = df.merge(df4, on='user_id', how='left')\n"
   ]
  },
  {
   "cell_type": "code",
   "execution_count": 9,
   "metadata": {},
   "outputs": [
    {
     "data": {
      "text/plain": [
       "0"
      ]
     },
     "execution_count": 9,
     "metadata": {},
     "output_type": "execute_result"
    }
   ],
   "source": [
    "#поиск дубликатов\n",
    "data_calls.duplicated().sum()"
   ]
  },
  {
   "cell_type": "markdown",
   "metadata": {},
   "source": [
    "В датасете data_calls присутсвует нецелочисеные значения duration от которых нужно избавиться, а также привести к правильному типу данных значения с датой и временем. Имеются также пропущеные значения, которые нужно обработать."
   ]
  },
  {
   "cell_type": "code",
   "execution_count": 10,
   "metadata": {},
   "outputs": [],
   "source": [
    "data_internet = df1.merge(df4, on='user_id', how='left')\n"
   ]
  },
  {
   "cell_type": "code",
   "execution_count": 11,
   "metadata": {},
   "outputs": [
    {
     "data": {
      "text/plain": [
       "0"
      ]
     },
     "execution_count": 11,
     "metadata": {},
     "output_type": "execute_result"
    }
   ],
   "source": [
    "#поиск дубликатов\n",
    "data_internet.duplicated().sum()"
   ]
  },
  {
   "cell_type": "markdown",
   "metadata": {},
   "source": [
    "В датасете data_internet присутсвует нецелочисеные значения mb_used от которых нужно избавиться, а также привести к правильному типу данных значения с датой и временем. Имеются также пропущеные значения, которые нужно обработать."
   ]
  },
  {
   "cell_type": "code",
   "execution_count": 12,
   "metadata": {},
   "outputs": [],
   "source": [
    "data_messages = df2.merge(df4, on='user_id', how='left')\n"
   ]
  },
  {
   "cell_type": "code",
   "execution_count": 13,
   "metadata": {},
   "outputs": [
    {
     "name": "stdout",
     "output_type": "stream",
     "text": [
      "<class 'pandas.core.frame.DataFrame'>\n",
      "Int64Index: 202607 entries, 0 to 202606\n",
      "Data columns (total 11 columns):\n",
      "id            202607 non-null object\n",
      "call_date     202607 non-null object\n",
      "duration      202607 non-null float64\n",
      "user_id       202607 non-null int64\n",
      "age           202607 non-null int64\n",
      "churn_date    9919 non-null object\n",
      "city          202607 non-null object\n",
      "first_name    202607 non-null object\n",
      "last_name     202607 non-null object\n",
      "reg_date      202607 non-null object\n",
      "tariff        202607 non-null object\n",
      "dtypes: float64(1), int64(2), object(8)\n",
      "memory usage: 18.5+ MB\n",
      "**Общая информация датафрейма** None\n",
      "\n",
      "**Просмотр статистических данных**             duration        user_id            age\n",
      "count  202607.000000  202607.000000  202607.000000\n",
      "mean        6.755887    1253.940619      47.397523\n",
      "std         5.843365     144.722751      16.466154\n",
      "min         0.000000    1000.000000      18.000000\n",
      "25%         1.300000    1126.000000      33.000000\n",
      "50%         6.000000    1260.000000      47.000000\n",
      "75%        10.700000    1379.000000      63.000000\n",
      "max        38.000000    1499.000000      75.000000\n",
      "\n",
      "**Вывод рандомных строк датафрейма**               id   call_date  duration  user_id  age churn_date       city  \\\n",
      "26953   1066_374  2018-08-26      0.00     1066   47        NaN  Астрахань   \n",
      "66122  1168_1273  2018-03-28     16.05     1168   28        NaN   Кострома   \n",
      "67325   1171_350  2018-09-14      6.23     1171   47        NaN     Москва   \n",
      "\n",
      "      first_name last_name    reg_date tariff  \n",
      "26953       Исак   Малахов  2018-06-24  smart  \n",
      "66122      Лилия  Ананьева  2018-01-24  ultra  \n",
      "67325   Каролина   Иванова  2018-03-20  smart  \n",
      "\n",
      "**Вывод первых пяти строк датафрейма**        id   call_date  duration  user_id  age churn_date       city  \\\n",
      "0  1000_0  2018-07-25      0.00     1000   52        NaN  Краснодар   \n",
      "1  1000_1  2018-08-17      0.00     1000   52        NaN  Краснодар   \n",
      "2  1000_2  2018-06-11      2.85     1000   52        NaN  Краснодар   \n",
      "\n",
      "  first_name  last_name    reg_date tariff  \n",
      "0     Рафаил  Верещагин  2018-05-25  ultra  \n",
      "1     Рафаил  Верещагин  2018-05-25  ultra  \n",
      "2     Рафаил  Верещагин  2018-05-25  ultra  \n",
      "\n",
      "**Вывод количесва дубликатов датафрейма** 0\n",
      "\n",
      "None\n",
      "\n",
      "\n",
      "<class 'pandas.core.frame.DataFrame'>\n",
      "Int64Index: 123036 entries, 0 to 123035\n",
      "Data columns (total 10 columns):\n",
      "id              123036 non-null object\n",
      "message_date    123036 non-null object\n",
      "user_id         123036 non-null int64\n",
      "age             123036 non-null int64\n",
      "churn_date      5339 non-null object\n",
      "city            123036 non-null object\n",
      "first_name      123036 non-null object\n",
      "last_name       123036 non-null object\n",
      "reg_date        123036 non-null object\n",
      "tariff          123036 non-null object\n",
      "dtypes: int64(2), object(8)\n",
      "memory usage: 10.3+ MB\n",
      "**Общая информация датафрейма** None\n",
      "\n",
      "**Просмотр статистических данных**              user_id            age\n",
      "count  123036.000000  123036.000000\n",
      "mean     1256.989410      46.513590\n",
      "std       143.523967      16.891023\n",
      "min      1000.000000      18.000000\n",
      "25%      1134.000000      30.000000\n",
      "50%      1271.000000      47.000000\n",
      "75%      1381.000000      61.000000\n",
      "max      1499.000000      75.000000\n",
      "\n",
      "**Вывод рандомных строк датафрейма**              id message_date  user_id  age churn_date        city first_name  \\\n",
      "45696   1197_26   2018-12-31     1197   34        NaN  Красноярск     Демьян   \n",
      "66091  1282_523   2018-11-30     1282   59        NaN   Ульяновск      Артём   \n",
      "18743  1082_184   2018-10-18     1082   48        NaN      Москва  Авксентий   \n",
      "\n",
      "      last_name    reg_date tariff  \n",
      "45696   Черняев  2018-06-18  smart  \n",
      "66091  Аракчеев  2018-01-21  smart  \n",
      "18743   Малышев  2018-10-05  smart  \n",
      "\n",
      "**Вывод первых пяти строк датафрейма**        id message_date  user_id  age churn_date       city first_name  \\\n",
      "0  1000_0   2018-06-27     1000   52        NaN  Краснодар     Рафаил   \n",
      "1  1000_1   2018-10-08     1000   52        NaN  Краснодар     Рафаил   \n",
      "2  1000_2   2018-08-04     1000   52        NaN  Краснодар     Рафаил   \n",
      "\n",
      "   last_name    reg_date tariff  \n",
      "0  Верещагин  2018-05-25  ultra  \n",
      "1  Верещагин  2018-05-25  ultra  \n",
      "2  Верещагин  2018-05-25  ultra  \n",
      "\n",
      "**Вывод количесва дубликатов датафрейма** 0\n",
      "\n",
      "None\n",
      "\n",
      "\n",
      "<class 'pandas.core.frame.DataFrame'>\n",
      "Int64Index: 149396 entries, 0 to 149395\n",
      "Data columns (total 12 columns):\n",
      "Unnamed: 0      149396 non-null int64\n",
      "id              149396 non-null object\n",
      "mb_used         149396 non-null float64\n",
      "session_date    149396 non-null object\n",
      "user_id         149396 non-null int64\n",
      "age             149396 non-null int64\n",
      "churn_date      7748 non-null object\n",
      "city            149396 non-null object\n",
      "first_name      149396 non-null object\n",
      "last_name       149396 non-null object\n",
      "reg_date        149396 non-null object\n",
      "tariff          149396 non-null object\n",
      "dtypes: float64(1), int64(3), object(8)\n",
      "memory usage: 14.8+ MB\n",
      "**Общая информация датафрейма** None\n",
      "\n",
      "**Просмотр статистических данных**           Unnamed: 0        mb_used        user_id            age\n",
      "count  149396.000000  149396.000000  149396.000000  149396.000000\n",
      "mean    74697.500000     370.192426    1252.099842      46.589092\n",
      "std     43127.054745     278.300951     144.050823      16.740500\n",
      "min         0.000000       0.000000    1000.000000      18.000000\n",
      "25%     37348.750000     138.187500    1130.000000      31.000000\n",
      "50%     74697.500000     348.015000    1251.000000      47.000000\n",
      "75%    112046.250000     559.552500    1380.000000      62.000000\n",
      "max    149395.000000    1724.830000    1499.000000      75.000000\n",
      "\n",
      "**Вывод рандомных строк датафрейма**        Unnamed: 0        id  mb_used session_date  user_id  age  churn_date  \\\n",
      "35745       35745  1124_125   122.45   2018-12-03     1124   54         NaN   \n",
      "18383       18383  1064_102   320.60   2018-12-19     1064   55  2018-12-26   \n",
      "59774       59774   1203_22   605.96   2018-06-17     1203   39         NaN   \n",
      "\n",
      "            city first_name  last_name    reg_date tariff  \n",
      "35745  Махачкала     Альбин  Андрианов  2018-09-24  ultra  \n",
      "18383     Якутск     Динара    Алфеева  2018-03-17  smart  \n",
      "59774     Москва   Владимир  Григорьев  2018-03-13  ultra  \n",
      "\n",
      "**Вывод первых пяти строк датафрейма**    Unnamed: 0      id  mb_used session_date  user_id  age churn_date  \\\n",
      "0           0  1000_0   112.95   2018-11-25     1000   52        NaN   \n",
      "1           1  1000_1  1052.81   2018-09-07     1000   52        NaN   \n",
      "2           2  1000_2  1197.26   2018-06-25     1000   52        NaN   \n",
      "\n",
      "        city first_name  last_name    reg_date tariff  \n",
      "0  Краснодар     Рафаил  Верещагин  2018-05-25  ultra  \n",
      "1  Краснодар     Рафаил  Верещагин  2018-05-25  ultra  \n",
      "2  Краснодар     Рафаил  Верещагин  2018-05-25  ultra  \n",
      "\n",
      "**Вывод количесва дубликатов датафрейма** 0\n",
      "\n",
      "None\n",
      "\n"
     ]
    }
   ],
   "source": [
    "def fun_date(data):\n",
    "    print('**Общая информация датафрейма**',data.info())\n",
    "    print()\n",
    "    print('**Просмотр статистических данных**',data.describe())\n",
    "    print()\n",
    "    print('**Вывод рандомных строк датафрейма**',data.sample(n=3, random_state=1))\n",
    "    print()\n",
    "    print('**Вывод первых пяти строк датафрейма**',data.head(3))\n",
    "    print()\n",
    "    print('**Вывод количесва дубликатов датафрейма**',data.duplicated().sum())\n",
    "    print()\n",
    "print(fun_date(data_calls))\n",
    "print()\n",
    "print()\n",
    "print(fun_date(data_messages))\n",
    "print()\n",
    "print()\n",
    "print(fun_date(data_internet))\n",
    "print()\n"
   ]
  },
  {
   "cell_type": "code",
   "execution_count": 14,
   "metadata": {},
   "outputs": [
    {
     "data": {
      "text/plain": [
       "0"
      ]
     },
     "execution_count": 14,
     "metadata": {},
     "output_type": "execute_result"
    }
   ],
   "source": [
    "#поиск дубликатов\n",
    "data_messages.duplicated().sum()"
   ]
  },
  {
   "cell_type": "markdown",
   "metadata": {},
   "source": [
    "В датасете data_messages необходимо привести к правильному типу данных значения с датой и временем. Имеются также пропущеные значения, которые нужно обработать."
   ]
  },
  {
   "cell_type": "markdown",
   "metadata": {},
   "source": [
    "Выгрузили все данные, теперь можно их обрабатывать."
   ]
  },
  {
   "cell_type": "markdown",
   "metadata": {},
   "source": [
    "## **Шаг 2. Подготовьте данные**"
   ]
  },
  {
   "cell_type": "markdown",
   "metadata": {},
   "source": [
    "### Таблица: data_calls"
   ]
  },
  {
   "cell_type": "code",
   "execution_count": 15,
   "metadata": {},
   "outputs": [
    {
     "data": {
      "text/plain": [
       "id                 0\n",
       "call_date          0\n",
       "duration           0\n",
       "user_id            0\n",
       "age                0\n",
       "churn_date    192688\n",
       "city               0\n",
       "first_name         0\n",
       "last_name          0\n",
       "reg_date           0\n",
       "tariff             0\n",
       "dtype: int64"
      ]
     },
     "execution_count": 15,
     "metadata": {},
     "output_type": "execute_result"
    }
   ],
   "source": [
    "data_calls.isnull().sum()"
   ]
  },
  {
   "cell_type": "code",
   "execution_count": 16,
   "metadata": {},
   "outputs": [
    {
     "data": {
      "text/html": [
       "<div>\n",
       "<style scoped>\n",
       "    .dataframe tbody tr th:only-of-type {\n",
       "        vertical-align: middle;\n",
       "    }\n",
       "\n",
       "    .dataframe tbody tr th {\n",
       "        vertical-align: top;\n",
       "    }\n",
       "\n",
       "    .dataframe thead th {\n",
       "        text-align: right;\n",
       "    }\n",
       "</style>\n",
       "<table border=\"1\" class=\"dataframe\">\n",
       "  <thead>\n",
       "    <tr style=\"text-align: right;\">\n",
       "      <th></th>\n",
       "      <th>id</th>\n",
       "      <th>call_date</th>\n",
       "      <th>duration</th>\n",
       "      <th>user_id</th>\n",
       "      <th>age</th>\n",
       "      <th>churn_date</th>\n",
       "      <th>city</th>\n",
       "      <th>first_name</th>\n",
       "      <th>last_name</th>\n",
       "      <th>reg_date</th>\n",
       "      <th>tariff</th>\n",
       "    </tr>\n",
       "  </thead>\n",
       "  <tbody>\n",
       "    <tr>\n",
       "      <td>0</td>\n",
       "      <td>1000_0</td>\n",
       "      <td>2018-07-25</td>\n",
       "      <td>0.00</td>\n",
       "      <td>1000</td>\n",
       "      <td>52</td>\n",
       "      <td>0</td>\n",
       "      <td>Краснодар</td>\n",
       "      <td>Рафаил</td>\n",
       "      <td>Верещагин</td>\n",
       "      <td>2018-05-25</td>\n",
       "      <td>ultra</td>\n",
       "    </tr>\n",
       "    <tr>\n",
       "      <td>1</td>\n",
       "      <td>1000_1</td>\n",
       "      <td>2018-08-17</td>\n",
       "      <td>0.00</td>\n",
       "      <td>1000</td>\n",
       "      <td>52</td>\n",
       "      <td>0</td>\n",
       "      <td>Краснодар</td>\n",
       "      <td>Рафаил</td>\n",
       "      <td>Верещагин</td>\n",
       "      <td>2018-05-25</td>\n",
       "      <td>ultra</td>\n",
       "    </tr>\n",
       "    <tr>\n",
       "      <td>2</td>\n",
       "      <td>1000_2</td>\n",
       "      <td>2018-06-11</td>\n",
       "      <td>2.85</td>\n",
       "      <td>1000</td>\n",
       "      <td>52</td>\n",
       "      <td>0</td>\n",
       "      <td>Краснодар</td>\n",
       "      <td>Рафаил</td>\n",
       "      <td>Верещагин</td>\n",
       "      <td>2018-05-25</td>\n",
       "      <td>ultra</td>\n",
       "    </tr>\n",
       "    <tr>\n",
       "      <td>3</td>\n",
       "      <td>1000_3</td>\n",
       "      <td>2018-09-21</td>\n",
       "      <td>13.80</td>\n",
       "      <td>1000</td>\n",
       "      <td>52</td>\n",
       "      <td>0</td>\n",
       "      <td>Краснодар</td>\n",
       "      <td>Рафаил</td>\n",
       "      <td>Верещагин</td>\n",
       "      <td>2018-05-25</td>\n",
       "      <td>ultra</td>\n",
       "    </tr>\n",
       "    <tr>\n",
       "      <td>4</td>\n",
       "      <td>1000_4</td>\n",
       "      <td>2018-12-15</td>\n",
       "      <td>5.18</td>\n",
       "      <td>1000</td>\n",
       "      <td>52</td>\n",
       "      <td>0</td>\n",
       "      <td>Краснодар</td>\n",
       "      <td>Рафаил</td>\n",
       "      <td>Верещагин</td>\n",
       "      <td>2018-05-25</td>\n",
       "      <td>ultra</td>\n",
       "    </tr>\n",
       "  </tbody>\n",
       "</table>\n",
       "</div>"
      ],
      "text/plain": [
       "       id   call_date  duration  user_id  age churn_date       city  \\\n",
       "0  1000_0  2018-07-25      0.00     1000   52          0  Краснодар   \n",
       "1  1000_1  2018-08-17      0.00     1000   52          0  Краснодар   \n",
       "2  1000_2  2018-06-11      2.85     1000   52          0  Краснодар   \n",
       "3  1000_3  2018-09-21     13.80     1000   52          0  Краснодар   \n",
       "4  1000_4  2018-12-15      5.18     1000   52          0  Краснодар   \n",
       "\n",
       "  first_name  last_name    reg_date tariff  \n",
       "0     Рафаил  Верещагин  2018-05-25  ultra  \n",
       "1     Рафаил  Верещагин  2018-05-25  ultra  \n",
       "2     Рафаил  Верещагин  2018-05-25  ultra  \n",
       "3     Рафаил  Верещагин  2018-05-25  ultra  \n",
       "4     Рафаил  Верещагин  2018-05-25  ultra  "
      ]
     },
     "execution_count": 16,
     "metadata": {},
     "output_type": "execute_result"
    }
   ],
   "source": [
    "#меняем пропущеные значения на ноль\n",
    "data_calls['churn_date'] = data_calls['churn_date'].fillna(0)\n",
    "data_calls.head()"
   ]
  },
  {
   "cell_type": "code",
   "execution_count": 17,
   "metadata": {},
   "outputs": [],
   "source": [
    "data_calls['call_date'] = pd.to_datetime(data_calls['call_date'], format='%Y-%m')\n",
    "data_calls['reg_date'] = pd.to_datetime(data_calls['reg_date'], format='%Y-%m')\n"
   ]
  },
  {
   "cell_type": "code",
   "execution_count": 18,
   "metadata": {},
   "outputs": [
    {
     "name": "stdout",
     "output_type": "stream",
     "text": [
      "<class 'pandas.core.frame.DataFrame'>\n",
      "Int64Index: 202607 entries, 0 to 202606\n",
      "Data columns (total 11 columns):\n",
      "id            202607 non-null object\n",
      "call_date     202607 non-null datetime64[ns]\n",
      "duration      202607 non-null int64\n",
      "user_id       202607 non-null int64\n",
      "age           202607 non-null int64\n",
      "churn_date    202607 non-null object\n",
      "city          202607 non-null object\n",
      "first_name    202607 non-null object\n",
      "last_name     202607 non-null object\n",
      "reg_date      202607 non-null datetime64[ns]\n",
      "tariff        202607 non-null object\n",
      "dtypes: datetime64[ns](2), int64(3), object(6)\n",
      "memory usage: 18.5+ MB\n"
     ]
    }
   ],
   "source": [
    "#data_calls['duration']= data_calls['duration'].apply(np.ceil)\n",
    "data_calls['duration'] = np.ceil(data_calls['duration']).astype('int')\n",
    "#data_calls['duration'] = data_calls['duration'].astype(int)\n",
    "data_calls.info()"
   ]
  },
  {
   "cell_type": "code",
   "execution_count": 19,
   "metadata": {},
   "outputs": [
    {
     "data": {
      "text/html": [
       "<div>\n",
       "<style scoped>\n",
       "    .dataframe tbody tr th:only-of-type {\n",
       "        vertical-align: middle;\n",
       "    }\n",
       "\n",
       "    .dataframe tbody tr th {\n",
       "        vertical-align: top;\n",
       "    }\n",
       "\n",
       "    .dataframe thead th {\n",
       "        text-align: right;\n",
       "    }\n",
       "</style>\n",
       "<table border=\"1\" class=\"dataframe\">\n",
       "  <thead>\n",
       "    <tr style=\"text-align: right;\">\n",
       "      <th></th>\n",
       "      <th>id</th>\n",
       "      <th>call_date</th>\n",
       "      <th>duration</th>\n",
       "      <th>user_id</th>\n",
       "      <th>age</th>\n",
       "      <th>churn_date</th>\n",
       "      <th>city</th>\n",
       "      <th>first_name</th>\n",
       "      <th>last_name</th>\n",
       "      <th>reg_date</th>\n",
       "      <th>tariff</th>\n",
       "    </tr>\n",
       "  </thead>\n",
       "  <tbody>\n",
       "    <tr>\n",
       "      <td>0</td>\n",
       "      <td>1000_0</td>\n",
       "      <td>2018-07-25</td>\n",
       "      <td>0</td>\n",
       "      <td>1000</td>\n",
       "      <td>52</td>\n",
       "      <td>0</td>\n",
       "      <td>Краснодар</td>\n",
       "      <td>Рафаил</td>\n",
       "      <td>Верещагин</td>\n",
       "      <td>2018-05-25</td>\n",
       "      <td>ultra</td>\n",
       "    </tr>\n",
       "    <tr>\n",
       "      <td>1</td>\n",
       "      <td>1000_1</td>\n",
       "      <td>2018-08-17</td>\n",
       "      <td>0</td>\n",
       "      <td>1000</td>\n",
       "      <td>52</td>\n",
       "      <td>0</td>\n",
       "      <td>Краснодар</td>\n",
       "      <td>Рафаил</td>\n",
       "      <td>Верещагин</td>\n",
       "      <td>2018-05-25</td>\n",
       "      <td>ultra</td>\n",
       "    </tr>\n",
       "    <tr>\n",
       "      <td>2</td>\n",
       "      <td>1000_2</td>\n",
       "      <td>2018-06-11</td>\n",
       "      <td>3</td>\n",
       "      <td>1000</td>\n",
       "      <td>52</td>\n",
       "      <td>0</td>\n",
       "      <td>Краснодар</td>\n",
       "      <td>Рафаил</td>\n",
       "      <td>Верещагин</td>\n",
       "      <td>2018-05-25</td>\n",
       "      <td>ultra</td>\n",
       "    </tr>\n",
       "    <tr>\n",
       "      <td>3</td>\n",
       "      <td>1000_3</td>\n",
       "      <td>2018-09-21</td>\n",
       "      <td>14</td>\n",
       "      <td>1000</td>\n",
       "      <td>52</td>\n",
       "      <td>0</td>\n",
       "      <td>Краснодар</td>\n",
       "      <td>Рафаил</td>\n",
       "      <td>Верещагин</td>\n",
       "      <td>2018-05-25</td>\n",
       "      <td>ultra</td>\n",
       "    </tr>\n",
       "    <tr>\n",
       "      <td>4</td>\n",
       "      <td>1000_4</td>\n",
       "      <td>2018-12-15</td>\n",
       "      <td>6</td>\n",
       "      <td>1000</td>\n",
       "      <td>52</td>\n",
       "      <td>0</td>\n",
       "      <td>Краснодар</td>\n",
       "      <td>Рафаил</td>\n",
       "      <td>Верещагин</td>\n",
       "      <td>2018-05-25</td>\n",
       "      <td>ultra</td>\n",
       "    </tr>\n",
       "  </tbody>\n",
       "</table>\n",
       "</div>"
      ],
      "text/plain": [
       "       id  call_date  duration  user_id  age churn_date       city first_name  \\\n",
       "0  1000_0 2018-07-25         0     1000   52          0  Краснодар     Рафаил   \n",
       "1  1000_1 2018-08-17         0     1000   52          0  Краснодар     Рафаил   \n",
       "2  1000_2 2018-06-11         3     1000   52          0  Краснодар     Рафаил   \n",
       "3  1000_3 2018-09-21        14     1000   52          0  Краснодар     Рафаил   \n",
       "4  1000_4 2018-12-15         6     1000   52          0  Краснодар     Рафаил   \n",
       "\n",
       "   last_name   reg_date tariff  \n",
       "0  Верещагин 2018-05-25  ultra  \n",
       "1  Верещагин 2018-05-25  ultra  \n",
       "2  Верещагин 2018-05-25  ultra  \n",
       "3  Верещагин 2018-05-25  ultra  \n",
       "4  Верещагин 2018-05-25  ultra  "
      ]
     },
     "execution_count": 19,
     "metadata": {},
     "output_type": "execute_result"
    }
   ],
   "source": [
    "data_calls.head()"
   ]
  },
  {
   "cell_type": "code",
   "execution_count": 20,
   "metadata": {},
   "outputs": [
    {
     "data": {
      "image/png": "[encoded data removed]",
      "text/plain": [
       "<Figure size 432x288 with 1 Axes>"
      ]
     },
     "metadata": {
      "needs_background": "light"
     },
     "output_type": "display_data"
    }
   ],
   "source": [
    "data_calls = data_calls.query('duration >= 1')\n",
    "data_calls['duration'].hist(bins=50)\n",
    "\n",
    "plt.xlabel('duration', fontweight='bold', fontsize=16)\n",
    "plt.ylabel('count', fontweight='light', fontsize=14)\n",
    "plt.grid(True)\n",
    "plt.show()"
   ]
  },
  {
   "cell_type": "code",
   "execution_count": 21,
   "metadata": {},
   "outputs": [
    {
     "name": "stdout",
     "output_type": "stream",
     "text": [
      "Количество звонков меньше одной минуты: 0\n",
      "\n",
      "Общее количесво звонков 162994\n"
     ]
    }
   ],
   "source": [
    "total = data_calls.query('duration < 1')\n",
    "print('Количество звонков меньше одной минуты:',total['duration'].count())\n",
    "print()\n",
    "print('Общее количесво звонков',data_calls['duration'].count())\n"
   ]
  },
  {
   "cell_type": "markdown",
   "metadata": {},
   "source": [
    "Заметны аномальные значения звонков до 1й минуты. Вероятнее всего клиенты обходятся быстрым, тезисным общением. Либо вообще никому не звонят."
   ]
  },
  {
   "cell_type": "markdown",
   "metadata": {},
   "source": [
    "Звонков длительностью меньше одной минуты составляет примерно 20% от датафрейма, что безусловно повлияет на итоговый результат, при условии, что мы срежем эти данные. Можно предположить, что звонки меньше одной минуты могуть обычным спамом, что обыденно в наше время."
   ]
  },
  {
   "cell_type": "markdown",
   "metadata": {},
   "source": [
    "### Таблица: data_internet\n"
   ]
  },
  {
   "cell_type": "code",
   "execution_count": 22,
   "metadata": {},
   "outputs": [
    {
     "data": {
      "text/plain": [
       "Unnamed: 0           0\n",
       "id                   0\n",
       "mb_used              0\n",
       "session_date         0\n",
       "user_id              0\n",
       "age                  0\n",
       "churn_date      141648\n",
       "city                 0\n",
       "first_name           0\n",
       "last_name            0\n",
       "reg_date             0\n",
       "tariff               0\n",
       "dtype: int64"
      ]
     },
     "execution_count": 22,
     "metadata": {},
     "output_type": "execute_result"
    }
   ],
   "source": [
    "data_internet.isnull().sum()"
   ]
  },
  {
   "cell_type": "code",
   "execution_count": 23,
   "metadata": {},
   "outputs": [],
   "source": [
    "data_internet['churn_date'] = data_internet['churn_date'].fillna(0)\n"
   ]
  },
  {
   "cell_type": "code",
   "execution_count": 24,
   "metadata": {},
   "outputs": [],
   "source": [
    "#приводим данные к нужным типам данных\n",
    "data_internet['session_date'] = pd.to_datetime(data_internet['session_date'], format='%Y-%m')\n",
    "data_internet['reg_date'] = pd.to_datetime(data_internet['reg_date'], format='%Y-%m')"
   ]
  },
  {
   "cell_type": "code",
   "execution_count": 25,
   "metadata": {},
   "outputs": [
    {
     "name": "stdout",
     "output_type": "stream",
     "text": [
      "<class 'pandas.core.frame.DataFrame'>\n",
      "Int64Index: 149396 entries, 0 to 149395\n",
      "Data columns (total 12 columns):\n",
      "Unnamed: 0      149396 non-null int64\n",
      "id              149396 non-null object\n",
      "mb_used         149396 non-null int64\n",
      "session_date    149396 non-null datetime64[ns]\n",
      "user_id         149396 non-null int64\n",
      "age             149396 non-null int64\n",
      "churn_date      149396 non-null object\n",
      "city            149396 non-null object\n",
      "first_name      149396 non-null object\n",
      "last_name       149396 non-null object\n",
      "reg_date        149396 non-null datetime64[ns]\n",
      "tariff          149396 non-null object\n",
      "dtypes: datetime64[ns](2), int64(4), object(6)\n",
      "memory usage: 14.8+ MB\n"
     ]
    }
   ],
   "source": [
    "#приводим данные к нужным типам данных\n",
    "#data_internet['mb_used']= data_internet['mb_used'].apply(np.ceil)\n",
    "#data_internet['mb_used'] = data_internet['mb_used'].astype(int)\n",
    "data_internet['mb_used'] = np.ceil(data_internet['mb_used']).astype('int')\n",
    "data_internet.info()"
   ]
  },
  {
   "cell_type": "code",
   "execution_count": 26,
   "metadata": {},
   "outputs": [
    {
     "data": {
      "text/html": [
       "<div>\n",
       "<style scoped>\n",
       "    .dataframe tbody tr th:only-of-type {\n",
       "        vertical-align: middle;\n",
       "    }\n",
       "\n",
       "    .dataframe tbody tr th {\n",
       "        vertical-align: top;\n",
       "    }\n",
       "\n",
       "    .dataframe thead th {\n",
       "        text-align: right;\n",
       "    }\n",
       "</style>\n",
       "<table border=\"1\" class=\"dataframe\">\n",
       "  <thead>\n",
       "    <tr style=\"text-align: right;\">\n",
       "      <th></th>\n",
       "      <th>Unnamed: 0</th>\n",
       "      <th>id</th>\n",
       "      <th>mb_used</th>\n",
       "      <th>session_date</th>\n",
       "      <th>user_id</th>\n",
       "      <th>age</th>\n",
       "      <th>churn_date</th>\n",
       "      <th>city</th>\n",
       "      <th>first_name</th>\n",
       "      <th>last_name</th>\n",
       "      <th>reg_date</th>\n",
       "      <th>tariff</th>\n",
       "    </tr>\n",
       "  </thead>\n",
       "  <tbody>\n",
       "    <tr>\n",
       "      <td>0</td>\n",
       "      <td>0</td>\n",
       "      <td>1000_0</td>\n",
       "      <td>113</td>\n",
       "      <td>2018-11-25</td>\n",
       "      <td>1000</td>\n",
       "      <td>52</td>\n",
       "      <td>0</td>\n",
       "      <td>Краснодар</td>\n",
       "      <td>Рафаил</td>\n",
       "      <td>Верещагин</td>\n",
       "      <td>2018-05-25</td>\n",
       "      <td>ultra</td>\n",
       "    </tr>\n",
       "    <tr>\n",
       "      <td>1</td>\n",
       "      <td>1</td>\n",
       "      <td>1000_1</td>\n",
       "      <td>1053</td>\n",
       "      <td>2018-09-07</td>\n",
       "      <td>1000</td>\n",
       "      <td>52</td>\n",
       "      <td>0</td>\n",
       "      <td>Краснодар</td>\n",
       "      <td>Рафаил</td>\n",
       "      <td>Верещагин</td>\n",
       "      <td>2018-05-25</td>\n",
       "      <td>ultra</td>\n",
       "    </tr>\n",
       "    <tr>\n",
       "      <td>2</td>\n",
       "      <td>2</td>\n",
       "      <td>1000_2</td>\n",
       "      <td>1198</td>\n",
       "      <td>2018-06-25</td>\n",
       "      <td>1000</td>\n",
       "      <td>52</td>\n",
       "      <td>0</td>\n",
       "      <td>Краснодар</td>\n",
       "      <td>Рафаил</td>\n",
       "      <td>Верещагин</td>\n",
       "      <td>2018-05-25</td>\n",
       "      <td>ultra</td>\n",
       "    </tr>\n",
       "    <tr>\n",
       "      <td>3</td>\n",
       "      <td>3</td>\n",
       "      <td>1000_3</td>\n",
       "      <td>551</td>\n",
       "      <td>2018-08-22</td>\n",
       "      <td>1000</td>\n",
       "      <td>52</td>\n",
       "      <td>0</td>\n",
       "      <td>Краснодар</td>\n",
       "      <td>Рафаил</td>\n",
       "      <td>Верещагин</td>\n",
       "      <td>2018-05-25</td>\n",
       "      <td>ultra</td>\n",
       "    </tr>\n",
       "    <tr>\n",
       "      <td>4</td>\n",
       "      <td>4</td>\n",
       "      <td>1000_4</td>\n",
       "      <td>303</td>\n",
       "      <td>2018-09-24</td>\n",
       "      <td>1000</td>\n",
       "      <td>52</td>\n",
       "      <td>0</td>\n",
       "      <td>Краснодар</td>\n",
       "      <td>Рафаил</td>\n",
       "      <td>Верещагин</td>\n",
       "      <td>2018-05-25</td>\n",
       "      <td>ultra</td>\n",
       "    </tr>\n",
       "  </tbody>\n",
       "</table>\n",
       "</div>"
      ],
      "text/plain": [
       "   Unnamed: 0      id  mb_used session_date  user_id  age churn_date  \\\n",
       "0           0  1000_0      113   2018-11-25     1000   52          0   \n",
       "1           1  1000_1     1053   2018-09-07     1000   52          0   \n",
       "2           2  1000_2     1198   2018-06-25     1000   52          0   \n",
       "3           3  1000_3      551   2018-08-22     1000   52          0   \n",
       "4           4  1000_4      303   2018-09-24     1000   52          0   \n",
       "\n",
       "        city first_name  last_name   reg_date tariff  \n",
       "0  Краснодар     Рафаил  Верещагин 2018-05-25  ultra  \n",
       "1  Краснодар     Рафаил  Верещагин 2018-05-25  ultra  \n",
       "2  Краснодар     Рафаил  Верещагин 2018-05-25  ultra  \n",
       "3  Краснодар     Рафаил  Верещагин 2018-05-25  ultra  \n",
       "4  Краснодар     Рафаил  Верещагин 2018-05-25  ultra  "
      ]
     },
     "execution_count": 26,
     "metadata": {},
     "output_type": "execute_result"
    }
   ],
   "source": [
    "data_internet.head()"
   ]
  },
  {
   "cell_type": "code",
   "execution_count": 27,
   "metadata": {},
   "outputs": [
    {
     "data": {
      "image/png": "[encoded data removed]",
      "text/plain": [
       "<Figure size 432x288 with 1 Axes>"
      ]
     },
     "metadata": {
      "needs_background": "light"
     },
     "output_type": "display_data"
    }
   ],
   "source": [
    "data_internet = data_internet.query('mb_used >= 1')\n",
    "data_internet['mb_used'].hist(range=(0,1250),bins=50)\n",
    "plt.xlabel('mb_used', fontweight='bold', fontsize=16)\n",
    "plt.ylabel('count', fontweight='light', fontsize=14)\n",
    "plt.grid(True)\n",
    "plt.show()"
   ]
  },
  {
   "cell_type": "markdown",
   "metadata": {},
   "source": [
    "Заметны аномальные значения в нуле, что говорит о том, что клиенты используют до 40мб интернет трафика, что мне кажется в наше время невозможно. Если только предположить, что у жителей дальних регионов плохое покрытие сети."
   ]
  },
  {
   "cell_type": "code",
   "execution_count": 28,
   "metadata": {},
   "outputs": [
    {
     "name": "stdout",
     "output_type": "stream",
     "text": [
      "Количество использование трафика меньше 1мб: 0\n",
      "\n",
      "Общее количество использование трафика : 129798\n"
     ]
    }
   ],
   "source": [
    "total_internet = data_internet.query('mb_used < 1')\n",
    "print('Количество использование трафика меньше 1мб:',total_internet['mb_used'].count())\n",
    "print()\n",
    "print('Общее количество использование трафика :',data_internet['mb_used'].count())"
   ]
  },
  {
   "cell_type": "markdown",
   "metadata": {},
   "source": [
    "Использования трафика меньше одного мегабайта около 15% от всего датафрейма, что повлечет за собой искажение данных, при условии, что мы их обрежем. Возможно большинсво клиентов пользуются системой \"зашел-вышел\", для, условно, проверки писем в соц. сетях.  "
   ]
  },
  {
   "cell_type": "markdown",
   "metadata": {},
   "source": [
    "### Таблица: data_messages\n"
   ]
  },
  {
   "cell_type": "code",
   "execution_count": 29,
   "metadata": {},
   "outputs": [
    {
     "data": {
      "text/plain": [
       "id                   0\n",
       "message_date         0\n",
       "user_id              0\n",
       "age                  0\n",
       "churn_date      117697\n",
       "city                 0\n",
       "first_name           0\n",
       "last_name            0\n",
       "reg_date             0\n",
       "tariff               0\n",
       "dtype: int64"
      ]
     },
     "execution_count": 29,
     "metadata": {},
     "output_type": "execute_result"
    }
   ],
   "source": [
    "data_messages.isnull().sum()"
   ]
  },
  {
   "cell_type": "code",
   "execution_count": 30,
   "metadata": {},
   "outputs": [],
   "source": [
    "data_messages['churn_date'] = data_messages['churn_date'].fillna(0)"
   ]
  },
  {
   "cell_type": "code",
   "execution_count": 31,
   "metadata": {},
   "outputs": [],
   "source": [
    "data_messages['message_date'] = pd.to_datetime(data_messages['message_date'], format='%Y-%m')\n",
    "data_messages['reg_date'] = pd.to_datetime(data_messages['reg_date'], format='%Y-%m')"
   ]
  },
  {
   "cell_type": "code",
   "execution_count": 32,
   "metadata": {},
   "outputs": [
    {
     "data": {
      "text/html": [
       "<div>\n",
       "<style scoped>\n",
       "    .dataframe tbody tr th:only-of-type {\n",
       "        vertical-align: middle;\n",
       "    }\n",
       "\n",
       "    .dataframe tbody tr th {\n",
       "        vertical-align: top;\n",
       "    }\n",
       "\n",
       "    .dataframe thead th {\n",
       "        text-align: right;\n",
       "    }\n",
       "</style>\n",
       "<table border=\"1\" class=\"dataframe\">\n",
       "  <thead>\n",
       "    <tr style=\"text-align: right;\">\n",
       "      <th></th>\n",
       "      <th>id</th>\n",
       "      <th>message_date</th>\n",
       "      <th>user_id</th>\n",
       "      <th>age</th>\n",
       "      <th>churn_date</th>\n",
       "      <th>city</th>\n",
       "      <th>first_name</th>\n",
       "      <th>last_name</th>\n",
       "      <th>reg_date</th>\n",
       "      <th>tariff</th>\n",
       "    </tr>\n",
       "  </thead>\n",
       "  <tbody>\n",
       "    <tr>\n",
       "      <td>0</td>\n",
       "      <td>1000_0</td>\n",
       "      <td>2018-06-27</td>\n",
       "      <td>1000</td>\n",
       "      <td>52</td>\n",
       "      <td>0</td>\n",
       "      <td>Краснодар</td>\n",
       "      <td>Рафаил</td>\n",
       "      <td>Верещагин</td>\n",
       "      <td>2018-05-25</td>\n",
       "      <td>ultra</td>\n",
       "    </tr>\n",
       "    <tr>\n",
       "      <td>1</td>\n",
       "      <td>1000_1</td>\n",
       "      <td>2018-10-08</td>\n",
       "      <td>1000</td>\n",
       "      <td>52</td>\n",
       "      <td>0</td>\n",
       "      <td>Краснодар</td>\n",
       "      <td>Рафаил</td>\n",
       "      <td>Верещагин</td>\n",
       "      <td>2018-05-25</td>\n",
       "      <td>ultra</td>\n",
       "    </tr>\n",
       "    <tr>\n",
       "      <td>2</td>\n",
       "      <td>1000_2</td>\n",
       "      <td>2018-08-04</td>\n",
       "      <td>1000</td>\n",
       "      <td>52</td>\n",
       "      <td>0</td>\n",
       "      <td>Краснодар</td>\n",
       "      <td>Рафаил</td>\n",
       "      <td>Верещагин</td>\n",
       "      <td>2018-05-25</td>\n",
       "      <td>ultra</td>\n",
       "    </tr>\n",
       "    <tr>\n",
       "      <td>3</td>\n",
       "      <td>1000_3</td>\n",
       "      <td>2018-06-16</td>\n",
       "      <td>1000</td>\n",
       "      <td>52</td>\n",
       "      <td>0</td>\n",
       "      <td>Краснодар</td>\n",
       "      <td>Рафаил</td>\n",
       "      <td>Верещагин</td>\n",
       "      <td>2018-05-25</td>\n",
       "      <td>ultra</td>\n",
       "    </tr>\n",
       "    <tr>\n",
       "      <td>4</td>\n",
       "      <td>1000_4</td>\n",
       "      <td>2018-12-05</td>\n",
       "      <td>1000</td>\n",
       "      <td>52</td>\n",
       "      <td>0</td>\n",
       "      <td>Краснодар</td>\n",
       "      <td>Рафаил</td>\n",
       "      <td>Верещагин</td>\n",
       "      <td>2018-05-25</td>\n",
       "      <td>ultra</td>\n",
       "    </tr>\n",
       "  </tbody>\n",
       "</table>\n",
       "</div>"
      ],
      "text/plain": [
       "       id message_date  user_id  age churn_date       city first_name  \\\n",
       "0  1000_0   2018-06-27     1000   52          0  Краснодар     Рафаил   \n",
       "1  1000_1   2018-10-08     1000   52          0  Краснодар     Рафаил   \n",
       "2  1000_2   2018-08-04     1000   52          0  Краснодар     Рафаил   \n",
       "3  1000_3   2018-06-16     1000   52          0  Краснодар     Рафаил   \n",
       "4  1000_4   2018-12-05     1000   52          0  Краснодар     Рафаил   \n",
       "\n",
       "   last_name   reg_date tariff  \n",
       "0  Верещагин 2018-05-25  ultra  \n",
       "1  Верещагин 2018-05-25  ultra  \n",
       "2  Верещагин 2018-05-25  ultra  \n",
       "3  Верещагин 2018-05-25  ultra  \n",
       "4  Верещагин 2018-05-25  ultra  "
      ]
     },
     "execution_count": 32,
     "metadata": {},
     "output_type": "execute_result"
    }
   ],
   "source": [
    "data_messages.head()"
   ]
  },
  {
   "cell_type": "markdown",
   "metadata": {},
   "source": [
    "***количество сделанных звонков и израсходованных минут разговора по месяцам;***"
   ]
  },
  {
   "cell_type": "code",
   "execution_count": 69,
   "metadata": {},
   "outputs": [
    {
     "data": {
      "text/html": [
       "<div>\n",
       "<style scoped>\n",
       "    .dataframe tbody tr th:only-of-type {\n",
       "        vertical-align: middle;\n",
       "    }\n",
       "\n",
       "    .dataframe tbody tr th {\n",
       "        vertical-align: top;\n",
       "    }\n",
       "\n",
       "    .dataframe thead th {\n",
       "        text-align: right;\n",
       "    }\n",
       "</style>\n",
       "<table border=\"1\" class=\"dataframe\">\n",
       "  <thead>\n",
       "    <tr style=\"text-align: right;\">\n",
       "      <th></th>\n",
       "      <th>id</th>\n",
       "      <th>call_date</th>\n",
       "      <th>duration</th>\n",
       "      <th>user_id</th>\n",
       "      <th>age</th>\n",
       "      <th>churn_date</th>\n",
       "      <th>city</th>\n",
       "      <th>first_name</th>\n",
       "      <th>last_name</th>\n",
       "      <th>reg_date</th>\n",
       "      <th>tariff</th>\n",
       "      <th>month</th>\n",
       "    </tr>\n",
       "  </thead>\n",
       "  <tbody>\n",
       "    <tr>\n",
       "      <td>2</td>\n",
       "      <td>1000_2</td>\n",
       "      <td>2018-06-11</td>\n",
       "      <td>3</td>\n",
       "      <td>1000</td>\n",
       "      <td>52</td>\n",
       "      <td>0</td>\n",
       "      <td>Краснодар</td>\n",
       "      <td>Рафаил</td>\n",
       "      <td>Верещагин</td>\n",
       "      <td>2018-05-25</td>\n",
       "      <td>ultra</td>\n",
       "      <td>6</td>\n",
       "    </tr>\n",
       "    <tr>\n",
       "      <td>3</td>\n",
       "      <td>1000_3</td>\n",
       "      <td>2018-09-21</td>\n",
       "      <td>14</td>\n",
       "      <td>1000</td>\n",
       "      <td>52</td>\n",
       "      <td>0</td>\n",
       "      <td>Краснодар</td>\n",
       "      <td>Рафаил</td>\n",
       "      <td>Верещагин</td>\n",
       "      <td>2018-05-25</td>\n",
       "      <td>ultra</td>\n",
       "      <td>9</td>\n",
       "    </tr>\n",
       "    <tr>\n",
       "      <td>4</td>\n",
       "      <td>1000_4</td>\n",
       "      <td>2018-12-15</td>\n",
       "      <td>6</td>\n",
       "      <td>1000</td>\n",
       "      <td>52</td>\n",
       "      <td>0</td>\n",
       "      <td>Краснодар</td>\n",
       "      <td>Рафаил</td>\n",
       "      <td>Верещагин</td>\n",
       "      <td>2018-05-25</td>\n",
       "      <td>ultra</td>\n",
       "      <td>12</td>\n",
       "    </tr>\n",
       "    <tr>\n",
       "      <td>7</td>\n",
       "      <td>1000_7</td>\n",
       "      <td>2018-08-22</td>\n",
       "      <td>19</td>\n",
       "      <td>1000</td>\n",
       "      <td>52</td>\n",
       "      <td>0</td>\n",
       "      <td>Краснодар</td>\n",
       "      <td>Рафаил</td>\n",
       "      <td>Верещагин</td>\n",
       "      <td>2018-05-25</td>\n",
       "      <td>ultra</td>\n",
       "      <td>8</td>\n",
       "    </tr>\n",
       "    <tr>\n",
       "      <td>8</td>\n",
       "      <td>1000_8</td>\n",
       "      <td>2018-09-15</td>\n",
       "      <td>19</td>\n",
       "      <td>1000</td>\n",
       "      <td>52</td>\n",
       "      <td>0</td>\n",
       "      <td>Краснодар</td>\n",
       "      <td>Рафаил</td>\n",
       "      <td>Верещагин</td>\n",
       "      <td>2018-05-25</td>\n",
       "      <td>ultra</td>\n",
       "      <td>9</td>\n",
       "    </tr>\n",
       "  </tbody>\n",
       "</table>\n",
       "</div>"
      ],
      "text/plain": [
       "       id  call_date  duration  user_id  age churn_date       city first_name  \\\n",
       "2  1000_2 2018-06-11         3     1000   52          0  Краснодар     Рафаил   \n",
       "3  1000_3 2018-09-21        14     1000   52          0  Краснодар     Рафаил   \n",
       "4  1000_4 2018-12-15         6     1000   52          0  Краснодар     Рафаил   \n",
       "7  1000_7 2018-08-22        19     1000   52          0  Краснодар     Рафаил   \n",
       "8  1000_8 2018-09-15        19     1000   52          0  Краснодар     Рафаил   \n",
       "\n",
       "   last_name   reg_date tariff  month  \n",
       "2  Верещагин 2018-05-25  ultra      6  \n",
       "3  Верещагин 2018-05-25  ultra      9  \n",
       "4  Верещагин 2018-05-25  ultra     12  \n",
       "7  Верещагин 2018-05-25  ultra      8  \n",
       "8  Верещагин 2018-05-25  ultra      9  "
      ]
     },
     "execution_count": 69,
     "metadata": {},
     "output_type": "execute_result"
    }
   ],
   "source": [
    "data_calls.head()"
   ]
  },
  {
   "cell_type": "code",
   "execution_count": 34,
   "metadata": {},
   "outputs": [
    {
     "name": "stdout",
     "output_type": "stream",
     "text": [
      "                   sum\n",
      "              duration\n",
      "user_id month         \n",
      "1000    5          159\n",
      "        6          172\n",
      "        7          340\n",
      "        8          408\n",
      "        9          466\n",
      "...                ...\n",
      "1498    10         247\n",
      "1499    9           70\n",
      "        10         449\n",
      "        11         612\n",
      "        12         492\n",
      "\n",
      "[3168 rows x 1 columns]\n"
     ]
    },
    {
     "data": {
      "image/png": "[encoded data removed]",
      "text/plain": [
       "<Figure size 432x288 with 1 Axes>"
      ]
     },
     "metadata": {
      "needs_background": "light"
     },
     "output_type": "display_data"
    }
   ],
   "source": [
    "data_calls['month'] = data_calls['call_date'].dt.month\n",
    "data_duration=data_calls.pivot_table(index=['user_id', 'month'], values=['duration'], aggfunc=['sum'])\n",
    "#data_duration.columns=['count_minute']\n",
    "print(data_duration)\n",
    "\n",
    "data_duration['sum'].hist(bins=50)\n",
    "plt.xlabel('sum duration', fontweight='bold', fontsize=16)\n",
    "plt.ylabel('count', fontweight='light', fontsize=14)\n",
    "plt.grid(True)\n",
    "plt.show()"
   ]
  },
  {
   "cell_type": "code",
   "execution_count": 35,
   "metadata": {},
   "outputs": [
    {
     "name": "stdout",
     "output_type": "stream",
     "text": [
      "               count_calls\n",
      "user_id month             \n",
      "1000    5               17\n",
      "        6               28\n",
      "        7               41\n",
      "        8               42\n",
      "        9               46\n",
      "...                    ...\n",
      "1498    10              30\n",
      "1499    9                8\n",
      "        10              44\n",
      "        11              62\n",
      "        12              56\n",
      "\n",
      "[3168 rows x 1 columns]\n"
     ]
    },
    {
     "data": {
      "image/png": "[encoded data removed]",
      "text/plain": [
       "<Figure size 432x288 with 1 Axes>"
      ]
     },
     "metadata": {
      "needs_background": "light"
     },
     "output_type": "display_data"
    }
   ],
   "source": [
    "data_id=data_calls.pivot_table(index=['user_id', 'month'], values=['duration'], aggfunc=['count'])\n",
    "data_id.columns=['count_calls']\n",
    "print(data_id)\n",
    "data_id['count_calls'].hist(bins=50)\n",
    "plt.xlabel('count_calls', fontweight='bold', fontsize=16)\n",
    "plt.ylabel('count', fontweight='light', fontsize=14)\n",
    "plt.grid(True)\n",
    "plt.show()\n"
   ]
  },
  {
   "cell_type": "markdown",
   "metadata": {},
   "source": [
    "***количество отправленных сообщений по месяцам;***"
   ]
  },
  {
   "cell_type": "code",
   "execution_count": 36,
   "metadata": {},
   "outputs": [
    {
     "data": {
      "text/html": [
       "<div>\n",
       "<style scoped>\n",
       "    .dataframe tbody tr th:only-of-type {\n",
       "        vertical-align: middle;\n",
       "    }\n",
       "\n",
       "    .dataframe tbody tr th {\n",
       "        vertical-align: top;\n",
       "    }\n",
       "\n",
       "    .dataframe thead th {\n",
       "        text-align: right;\n",
       "    }\n",
       "</style>\n",
       "<table border=\"1\" class=\"dataframe\">\n",
       "  <thead>\n",
       "    <tr style=\"text-align: right;\">\n",
       "      <th></th>\n",
       "      <th>id</th>\n",
       "      <th>message_date</th>\n",
       "      <th>user_id</th>\n",
       "      <th>age</th>\n",
       "      <th>churn_date</th>\n",
       "      <th>city</th>\n",
       "      <th>first_name</th>\n",
       "      <th>last_name</th>\n",
       "      <th>reg_date</th>\n",
       "      <th>tariff</th>\n",
       "    </tr>\n",
       "  </thead>\n",
       "  <tbody>\n",
       "    <tr>\n",
       "      <td>0</td>\n",
       "      <td>1000_0</td>\n",
       "      <td>2018-06-27</td>\n",
       "      <td>1000</td>\n",
       "      <td>52</td>\n",
       "      <td>0</td>\n",
       "      <td>Краснодар</td>\n",
       "      <td>Рафаил</td>\n",
       "      <td>Верещагин</td>\n",
       "      <td>2018-05-25</td>\n",
       "      <td>ultra</td>\n",
       "    </tr>\n",
       "    <tr>\n",
       "      <td>1</td>\n",
       "      <td>1000_1</td>\n",
       "      <td>2018-10-08</td>\n",
       "      <td>1000</td>\n",
       "      <td>52</td>\n",
       "      <td>0</td>\n",
       "      <td>Краснодар</td>\n",
       "      <td>Рафаил</td>\n",
       "      <td>Верещагин</td>\n",
       "      <td>2018-05-25</td>\n",
       "      <td>ultra</td>\n",
       "    </tr>\n",
       "    <tr>\n",
       "      <td>2</td>\n",
       "      <td>1000_2</td>\n",
       "      <td>2018-08-04</td>\n",
       "      <td>1000</td>\n",
       "      <td>52</td>\n",
       "      <td>0</td>\n",
       "      <td>Краснодар</td>\n",
       "      <td>Рафаил</td>\n",
       "      <td>Верещагин</td>\n",
       "      <td>2018-05-25</td>\n",
       "      <td>ultra</td>\n",
       "    </tr>\n",
       "    <tr>\n",
       "      <td>3</td>\n",
       "      <td>1000_3</td>\n",
       "      <td>2018-06-16</td>\n",
       "      <td>1000</td>\n",
       "      <td>52</td>\n",
       "      <td>0</td>\n",
       "      <td>Краснодар</td>\n",
       "      <td>Рафаил</td>\n",
       "      <td>Верещагин</td>\n",
       "      <td>2018-05-25</td>\n",
       "      <td>ultra</td>\n",
       "    </tr>\n",
       "    <tr>\n",
       "      <td>4</td>\n",
       "      <td>1000_4</td>\n",
       "      <td>2018-12-05</td>\n",
       "      <td>1000</td>\n",
       "      <td>52</td>\n",
       "      <td>0</td>\n",
       "      <td>Краснодар</td>\n",
       "      <td>Рафаил</td>\n",
       "      <td>Верещагин</td>\n",
       "      <td>2018-05-25</td>\n",
       "      <td>ultra</td>\n",
       "    </tr>\n",
       "  </tbody>\n",
       "</table>\n",
       "</div>"
      ],
      "text/plain": [
       "       id message_date  user_id  age churn_date       city first_name  \\\n",
       "0  1000_0   2018-06-27     1000   52          0  Краснодар     Рафаил   \n",
       "1  1000_1   2018-10-08     1000   52          0  Краснодар     Рафаил   \n",
       "2  1000_2   2018-08-04     1000   52          0  Краснодар     Рафаил   \n",
       "3  1000_3   2018-06-16     1000   52          0  Краснодар     Рафаил   \n",
       "4  1000_4   2018-12-05     1000   52          0  Краснодар     Рафаил   \n",
       "\n",
       "   last_name   reg_date tariff  \n",
       "0  Верещагин 2018-05-25  ultra  \n",
       "1  Верещагин 2018-05-25  ultra  \n",
       "2  Верещагин 2018-05-25  ultra  \n",
       "3  Верещагин 2018-05-25  ultra  \n",
       "4  Верещагин 2018-05-25  ultra  "
      ]
     },
     "execution_count": 36,
     "metadata": {},
     "output_type": "execute_result"
    }
   ],
   "source": [
    "data_messages.head()"
   ]
  },
  {
   "cell_type": "code",
   "execution_count": 37,
   "metadata": {},
   "outputs": [
    {
     "name": "stdout",
     "output_type": "stream",
     "text": [
      "               count_sms\n",
      "user_id month           \n",
      "1000    5             22\n",
      "        6             60\n",
      "        7             75\n",
      "        8             81\n",
      "        9             57\n",
      "...                  ...\n",
      "1498    10            42\n",
      "1499    9             11\n",
      "        10            48\n",
      "        11            59\n",
      "        12            66\n",
      "\n",
      "[2717 rows x 1 columns]\n"
     ]
    },
    {
     "data": {
      "image/png": "[encoded data removed]",
      "text/plain": [
       "<Figure size 432x288 with 1 Axes>"
      ]
     },
     "metadata": {
      "needs_background": "light"
     },
     "output_type": "display_data"
    }
   ],
   "source": [
    "data_messages['month'] = data_messages['message_date'].dt.month\n",
    "data_count_sms=data_messages.pivot_table(index=['user_id', 'month'], values=['message_date'], aggfunc=['count'])\n",
    "data_count_sms.columns=['count_sms']\n",
    "print(data_count_sms)\n",
    "data_count_sms['count_sms'].hist(bins=60)\n",
    "plt.xlabel('count_sms', fontweight='bold', fontsize=16)\n",
    "plt.ylabel('count', fontweight='light', fontsize=14)\n",
    "plt.grid(True)\n",
    "plt.show()\n"
   ]
  },
  {
   "cell_type": "markdown",
   "metadata": {},
   "source": [
    "***объем израсходованного интернет-трафика по месяцам;***"
   ]
  },
  {
   "cell_type": "code",
   "execution_count": 38,
   "metadata": {},
   "outputs": [
    {
     "data": {
      "text/html": [
       "<div>\n",
       "<style scoped>\n",
       "    .dataframe tbody tr th:only-of-type {\n",
       "        vertical-align: middle;\n",
       "    }\n",
       "\n",
       "    .dataframe tbody tr th {\n",
       "        vertical-align: top;\n",
       "    }\n",
       "\n",
       "    .dataframe thead th {\n",
       "        text-align: right;\n",
       "    }\n",
       "</style>\n",
       "<table border=\"1\" class=\"dataframe\">\n",
       "  <thead>\n",
       "    <tr style=\"text-align: right;\">\n",
       "      <th></th>\n",
       "      <th>Unnamed: 0</th>\n",
       "      <th>id</th>\n",
       "      <th>mb_used</th>\n",
       "      <th>session_date</th>\n",
       "      <th>user_id</th>\n",
       "      <th>age</th>\n",
       "      <th>churn_date</th>\n",
       "      <th>city</th>\n",
       "      <th>first_name</th>\n",
       "      <th>last_name</th>\n",
       "      <th>reg_date</th>\n",
       "      <th>tariff</th>\n",
       "    </tr>\n",
       "  </thead>\n",
       "  <tbody>\n",
       "    <tr>\n",
       "      <td>0</td>\n",
       "      <td>0</td>\n",
       "      <td>1000_0</td>\n",
       "      <td>113</td>\n",
       "      <td>2018-11-25</td>\n",
       "      <td>1000</td>\n",
       "      <td>52</td>\n",
       "      <td>0</td>\n",
       "      <td>Краснодар</td>\n",
       "      <td>Рафаил</td>\n",
       "      <td>Верещагин</td>\n",
       "      <td>2018-05-25</td>\n",
       "      <td>ultra</td>\n",
       "    </tr>\n",
       "    <tr>\n",
       "      <td>1</td>\n",
       "      <td>1</td>\n",
       "      <td>1000_1</td>\n",
       "      <td>1053</td>\n",
       "      <td>2018-09-07</td>\n",
       "      <td>1000</td>\n",
       "      <td>52</td>\n",
       "      <td>0</td>\n",
       "      <td>Краснодар</td>\n",
       "      <td>Рафаил</td>\n",
       "      <td>Верещагин</td>\n",
       "      <td>2018-05-25</td>\n",
       "      <td>ultra</td>\n",
       "    </tr>\n",
       "    <tr>\n",
       "      <td>2</td>\n",
       "      <td>2</td>\n",
       "      <td>1000_2</td>\n",
       "      <td>1198</td>\n",
       "      <td>2018-06-25</td>\n",
       "      <td>1000</td>\n",
       "      <td>52</td>\n",
       "      <td>0</td>\n",
       "      <td>Краснодар</td>\n",
       "      <td>Рафаил</td>\n",
       "      <td>Верещагин</td>\n",
       "      <td>2018-05-25</td>\n",
       "      <td>ultra</td>\n",
       "    </tr>\n",
       "    <tr>\n",
       "      <td>3</td>\n",
       "      <td>3</td>\n",
       "      <td>1000_3</td>\n",
       "      <td>551</td>\n",
       "      <td>2018-08-22</td>\n",
       "      <td>1000</td>\n",
       "      <td>52</td>\n",
       "      <td>0</td>\n",
       "      <td>Краснодар</td>\n",
       "      <td>Рафаил</td>\n",
       "      <td>Верещагин</td>\n",
       "      <td>2018-05-25</td>\n",
       "      <td>ultra</td>\n",
       "    </tr>\n",
       "    <tr>\n",
       "      <td>4</td>\n",
       "      <td>4</td>\n",
       "      <td>1000_4</td>\n",
       "      <td>303</td>\n",
       "      <td>2018-09-24</td>\n",
       "      <td>1000</td>\n",
       "      <td>52</td>\n",
       "      <td>0</td>\n",
       "      <td>Краснодар</td>\n",
       "      <td>Рафаил</td>\n",
       "      <td>Верещагин</td>\n",
       "      <td>2018-05-25</td>\n",
       "      <td>ultra</td>\n",
       "    </tr>\n",
       "  </tbody>\n",
       "</table>\n",
       "</div>"
      ],
      "text/plain": [
       "   Unnamed: 0      id  mb_used session_date  user_id  age churn_date  \\\n",
       "0           0  1000_0      113   2018-11-25     1000   52          0   \n",
       "1           1  1000_1     1053   2018-09-07     1000   52          0   \n",
       "2           2  1000_2     1198   2018-06-25     1000   52          0   \n",
       "3           3  1000_3      551   2018-08-22     1000   52          0   \n",
       "4           4  1000_4      303   2018-09-24     1000   52          0   \n",
       "\n",
       "        city first_name  last_name   reg_date tariff  \n",
       "0  Краснодар     Рафаил  Верещагин 2018-05-25  ultra  \n",
       "1  Краснодар     Рафаил  Верещагин 2018-05-25  ultra  \n",
       "2  Краснодар     Рафаил  Верещагин 2018-05-25  ultra  \n",
       "3  Краснодар     Рафаил  Верещагин 2018-05-25  ultra  \n",
       "4  Краснодар     Рафаил  Верещагин 2018-05-25  ultra  "
      ]
     },
     "execution_count": 38,
     "metadata": {},
     "output_type": "execute_result"
    }
   ],
   "source": [
    "data_internet.head()"
   ]
  },
  {
   "cell_type": "code",
   "execution_count": 39,
   "metadata": {},
   "outputs": [
    {
     "name": "stdout",
     "output_type": "stream",
     "text": [
      "               mb_used\n",
      "user_id month         \n",
      "1000    5         2256\n",
      "        6        23257\n",
      "        7        14016\n",
      "        8        14070\n",
      "        9        14581\n",
      "...                ...\n",
      "1498    10       20604\n",
      "1499    9         1848\n",
      "        10       17809\n",
      "        11       17984\n",
      "        12       13077\n",
      "\n",
      "[3201 rows x 1 columns]\n"
     ]
    },
    {
     "data": {
      "image/png": "[encoded data removed]",
      "text/plain": [
       "<Figure size 432x288 with 1 Axes>"
      ]
     },
     "metadata": {
      "needs_background": "light"
     },
     "output_type": "display_data"
    }
   ],
   "source": [
    "data_internet['month'] = data_internet['session_date'].dt.month\n",
    "data_count_mb=data_internet.pivot_table(index=['user_id', 'month'], values=['mb_used'], aggfunc=['sum'])\n",
    "data_count_mb.columns=['mb_used']\n",
    "print(data_count_mb)\n",
    "data_count_mb['mb_used'].hist(bins=60)\n",
    "plt.xlabel('mb_used', fontweight='bold', fontsize=16)\n",
    "plt.ylabel('count', fontweight='light', fontsize=14)\n",
    "plt.grid(True)\n",
    "plt.show()"
   ]
  },
  {
   "cell_type": "markdown",
   "metadata": {},
   "source": [
    "Можно сделать общий вывод, что расход объема всех показателей увеличивался от месяца к месяцу "
   ]
  },
  {
   "cell_type": "code",
   "execution_count": 40,
   "metadata": {},
   "outputs": [
    {
     "name": "stdout",
     "output_type": "stream",
     "text": [
      "               duration  count_sms  mb_used\n",
      "user_id month                              \n",
      "1000    5         159.0       22.0   2256.0\n",
      "        6         172.0       60.0  23257.0\n",
      "        7         340.0       75.0  14016.0\n",
      "        8         408.0       81.0  14070.0\n",
      "        9         466.0       57.0  14581.0\n",
      "        10        350.0       73.0  14717.0\n",
      "        11        338.0       58.0  14768.0\n",
      "        12        333.0       70.0   9827.0\n",
      "1001    11        430.0        NaN  18452.0\n",
      "        12        414.0        NaN  14053.0\n",
      "\n",
      "               duration  count_sms  mb_used\n",
      "user_id month                              \n",
      "1473    10          NaN       20.0  13703.0\n",
      "        11          NaN       14.0  21692.0\n",
      "        12          NaN       20.0  18432.0\n",
      "1489    8           NaN       17.0  11066.0\n",
      "        9           NaN       32.0  17232.0\n",
      "        10          NaN       21.0  19588.0\n",
      "        11          NaN       20.0  17516.0\n",
      "        12          NaN       35.0  17341.0\n",
      "1240    2           NaN        NaN    961.0\n",
      "1476    4           NaN        NaN    531.0\n"
     ]
    },
    {
     "name": "stderr",
     "output_type": "stream",
     "text": [
      "/opt/conda/lib/python3.7/site-packages/pandas/core/reshape/merge.py:617: UserWarning: merging between different levels can give an unintended result (2 levels on the left, 1 on the right)\n",
      "  warnings.warn(msg, UserWarning)\n"
     ]
    }
   ],
   "source": [
    "all_data = data_duration.join(data_count_sms, on=['user_id','month'], how='outer').join(data_count_mb, on=['user_id','month'], how='outer')\n",
    "all_data.columns=['duration','count_sms','mb_used']\n",
    "print(all_data.head(10))\n",
    "print()\n",
    "print(all_data.tail(10))"
   ]
  },
  {
   "cell_type": "markdown",
   "metadata": {},
   "source": [
    "В таблице присутствуют пропущенные значения, которые можно заменить на ноль, т.к. многие могут просто не пользоваться некоторыми функциями, такими как например звонки"
   ]
  },
  {
   "cell_type": "code",
   "execution_count": 41,
   "metadata": {},
   "outputs": [],
   "source": [
    "all_data['duration'] = all_data['duration'].fillna(0)\n",
    "all_data['count_sms'] = all_data['count_sms'].fillna(0)\n",
    "all_data['mb_used'] = all_data['mb_used'].fillna(0)\n"
   ]
  },
  {
   "cell_type": "code",
   "execution_count": 42,
   "metadata": {},
   "outputs": [
    {
     "name": "stdout",
     "output_type": "stream",
     "text": [
      "               duration  count_sms  mb_used\n",
      "user_id month                              \n",
      "1000    5         159.0       22.0   2256.0\n",
      "        6         172.0       60.0  23257.0\n",
      "        7         340.0       75.0  14016.0\n",
      "        8         408.0       81.0  14070.0\n",
      "        9         466.0       57.0  14581.0\n",
      "        10        350.0       73.0  14717.0\n",
      "        11        338.0       58.0  14768.0\n",
      "        12        333.0       70.0   9827.0\n",
      "1001    11        430.0        0.0  18452.0\n",
      "        12        414.0        0.0  14053.0\n"
     ]
    }
   ],
   "source": [
    "print(all_data.head(10))\n"
   ]
  },
  {
   "cell_type": "code",
   "execution_count": 70,
   "metadata": {},
   "outputs": [
    {
     "data": {
      "text/html": [
       "<div>\n",
       "<style scoped>\n",
       "    .dataframe tbody tr th:only-of-type {\n",
       "        vertical-align: middle;\n",
       "    }\n",
       "\n",
       "    .dataframe tbody tr th {\n",
       "        vertical-align: top;\n",
       "    }\n",
       "\n",
       "    .dataframe thead th {\n",
       "        text-align: right;\n",
       "    }\n",
       "</style>\n",
       "<table border=\"1\" class=\"dataframe\">\n",
       "  <thead>\n",
       "    <tr style=\"text-align: right;\">\n",
       "      <th></th>\n",
       "      <th>user_id</th>\n",
       "      <th>duration</th>\n",
       "      <th>count_sms</th>\n",
       "      <th>mb_used</th>\n",
       "      <th>age</th>\n",
       "      <th>churn_date</th>\n",
       "      <th>city</th>\n",
       "      <th>first_name</th>\n",
       "      <th>last_name</th>\n",
       "      <th>reg_date</th>\n",
       "      <th>tariff</th>\n",
       "    </tr>\n",
       "  </thead>\n",
       "  <tbody>\n",
       "    <tr>\n",
       "      <td>0</td>\n",
       "      <td>1000</td>\n",
       "      <td>159.0</td>\n",
       "      <td>22.0</td>\n",
       "      <td>2256.0</td>\n",
       "      <td>52</td>\n",
       "      <td>0</td>\n",
       "      <td>Краснодар</td>\n",
       "      <td>Рафаил</td>\n",
       "      <td>Верещагин</td>\n",
       "      <td>2018-05-25</td>\n",
       "      <td>ultra</td>\n",
       "    </tr>\n",
       "    <tr>\n",
       "      <td>1</td>\n",
       "      <td>1000</td>\n",
       "      <td>172.0</td>\n",
       "      <td>60.0</td>\n",
       "      <td>23257.0</td>\n",
       "      <td>52</td>\n",
       "      <td>0</td>\n",
       "      <td>Краснодар</td>\n",
       "      <td>Рафаил</td>\n",
       "      <td>Верещагин</td>\n",
       "      <td>2018-05-25</td>\n",
       "      <td>ultra</td>\n",
       "    </tr>\n",
       "    <tr>\n",
       "      <td>2</td>\n",
       "      <td>1000</td>\n",
       "      <td>340.0</td>\n",
       "      <td>75.0</td>\n",
       "      <td>14016.0</td>\n",
       "      <td>52</td>\n",
       "      <td>0</td>\n",
       "      <td>Краснодар</td>\n",
       "      <td>Рафаил</td>\n",
       "      <td>Верещагин</td>\n",
       "      <td>2018-05-25</td>\n",
       "      <td>ultra</td>\n",
       "    </tr>\n",
       "    <tr>\n",
       "      <td>3</td>\n",
       "      <td>1000</td>\n",
       "      <td>408.0</td>\n",
       "      <td>81.0</td>\n",
       "      <td>14070.0</td>\n",
       "      <td>52</td>\n",
       "      <td>0</td>\n",
       "      <td>Краснодар</td>\n",
       "      <td>Рафаил</td>\n",
       "      <td>Верещагин</td>\n",
       "      <td>2018-05-25</td>\n",
       "      <td>ultra</td>\n",
       "    </tr>\n",
       "    <tr>\n",
       "      <td>4</td>\n",
       "      <td>1000</td>\n",
       "      <td>466.0</td>\n",
       "      <td>57.0</td>\n",
       "      <td>14581.0</td>\n",
       "      <td>52</td>\n",
       "      <td>0</td>\n",
       "      <td>Краснодар</td>\n",
       "      <td>Рафаил</td>\n",
       "      <td>Верещагин</td>\n",
       "      <td>2018-05-25</td>\n",
       "      <td>ultra</td>\n",
       "    </tr>\n",
       "  </tbody>\n",
       "</table>\n",
       "</div>"
      ],
      "text/plain": [
       "   user_id  duration  count_sms  mb_used  age churn_date       city  \\\n",
       "0     1000     159.0       22.0   2256.0   52          0  Краснодар   \n",
       "1     1000     172.0       60.0  23257.0   52          0  Краснодар   \n",
       "2     1000     340.0       75.0  14016.0   52          0  Краснодар   \n",
       "3     1000     408.0       81.0  14070.0   52          0  Краснодар   \n",
       "4     1000     466.0       57.0  14581.0   52          0  Краснодар   \n",
       "\n",
       "  first_name  last_name    reg_date tariff  \n",
       "0     Рафаил  Верещагин  2018-05-25  ultra  \n",
       "1     Рафаил  Верещагин  2018-05-25  ultra  \n",
       "2     Рафаил  Верещагин  2018-05-25  ultra  \n",
       "3     Рафаил  Верещагин  2018-05-25  ultra  \n",
       "4     Рафаил  Верещагин  2018-05-25  ultra  "
      ]
     },
     "execution_count": 70,
     "metadata": {},
     "output_type": "execute_result"
    }
   ],
   "source": [
    "fin_data = all_data.merge(df4, on=['user_id'],how='outer')\n",
    "                          \n",
    "fin_data['duration'] = fin_data['duration'].fillna(0)\n",
    "fin_data['count_sms'] = fin_data['count_sms'].fillna(0)\n",
    "fin_data['mb_used'] = fin_data['mb_used'].fillna(0)\n",
    "fin_data['churn_date'] = fin_data['churn_date'].fillna(0)\n",
    "fin_data.head()\n",
    "#data_calls.join(data_internet, on=['user_id','month'], how='left').join(data_messages, on=['user_id','month'], how='left')"
   ]
  },
  {
   "cell_type": "markdown",
   "metadata": {},
   "source": [
    "### Вычислить помесячную выручку с каждого пользователя (вычтите бесплатный лимит из суммарного количества звонков, сообщений и интернет-трафика; остаток умножьте на значение из тарифного плана; прибавьте абонентскую плату, соответствующую тарифному плану)."
   ]
  },
  {
   "cell_type": "code",
   "execution_count": 44,
   "metadata": {},
   "outputs": [
    {
     "data": {
      "text/html": [
       "<div>\n",
       "<style scoped>\n",
       "    .dataframe tbody tr th:only-of-type {\n",
       "        vertical-align: middle;\n",
       "    }\n",
       "\n",
       "    .dataframe tbody tr th {\n",
       "        vertical-align: top;\n",
       "    }\n",
       "\n",
       "    .dataframe thead th {\n",
       "        text-align: right;\n",
       "    }\n",
       "</style>\n",
       "<table border=\"1\" class=\"dataframe\">\n",
       "  <thead>\n",
       "    <tr style=\"text-align: right;\">\n",
       "      <th></th>\n",
       "      <th>messages_included</th>\n",
       "      <th>mb_per_month_included</th>\n",
       "      <th>minutes_included</th>\n",
       "      <th>rub_monthly_fee</th>\n",
       "      <th>rub_per_gb</th>\n",
       "      <th>rub_per_message</th>\n",
       "      <th>rub_per_minute</th>\n",
       "      <th>tariff_name</th>\n",
       "    </tr>\n",
       "  </thead>\n",
       "  <tbody>\n",
       "    <tr>\n",
       "      <td>0</td>\n",
       "      <td>50</td>\n",
       "      <td>15360</td>\n",
       "      <td>500</td>\n",
       "      <td>550</td>\n",
       "      <td>200</td>\n",
       "      <td>3</td>\n",
       "      <td>3</td>\n",
       "      <td>smart</td>\n",
       "    </tr>\n",
       "    <tr>\n",
       "      <td>1</td>\n",
       "      <td>1000</td>\n",
       "      <td>30720</td>\n",
       "      <td>3000</td>\n",
       "      <td>1950</td>\n",
       "      <td>150</td>\n",
       "      <td>1</td>\n",
       "      <td>1</td>\n",
       "      <td>ultra</td>\n",
       "    </tr>\n",
       "  </tbody>\n",
       "</table>\n",
       "</div>"
      ],
      "text/plain": [
       "   messages_included  mb_per_month_included  minutes_included  \\\n",
       "0                 50                  15360               500   \n",
       "1               1000                  30720              3000   \n",
       "\n",
       "   rub_monthly_fee  rub_per_gb  rub_per_message  rub_per_minute tariff_name  \n",
       "0              550         200                3               3       smart  \n",
       "1             1950         150                1               1       ultra  "
      ]
     },
     "execution_count": 44,
     "metadata": {},
     "output_type": "execute_result"
    }
   ],
   "source": [
    "#df3.rename(columns = {'tariff_name':'tariff'}, inplace = True)\n",
    "df3"
   ]
  },
  {
   "cell_type": "code",
   "execution_count": 50,
   "metadata": {},
   "outputs": [],
   "source": [
    "\n",
    "df3['gb_per_month_included'] = df3['mb_per_month_included']/1024\n",
    "\n",
    "df3['gb_per_month_included'] = np.ceil(df3['gb_per_month_included']).astype('int')\n",
    "fin_data['gb_used'] = fin_data['mb_used']/1024\n",
    "\n",
    "fin_data['gb_used'] = np.ceil(fin_data['gb_used']).astype('int')"
   ]
  },
  {
   "cell_type": "code",
   "execution_count": 51,
   "metadata": {},
   "outputs": [
    {
     "data": {
      "text/html": [
       "<div>\n",
       "<style scoped>\n",
       "    .dataframe tbody tr th:only-of-type {\n",
       "        vertical-align: middle;\n",
       "    }\n",
       "\n",
       "    .dataframe tbody tr th {\n",
       "        vertical-align: top;\n",
       "    }\n",
       "\n",
       "    .dataframe thead th {\n",
       "        text-align: right;\n",
       "    }\n",
       "</style>\n",
       "<table border=\"1\" class=\"dataframe\">\n",
       "  <thead>\n",
       "    <tr style=\"text-align: right;\">\n",
       "      <th></th>\n",
       "      <th>user_id</th>\n",
       "      <th>duration</th>\n",
       "      <th>count_sms</th>\n",
       "      <th>mb_used</th>\n",
       "      <th>age</th>\n",
       "      <th>churn_date</th>\n",
       "      <th>city</th>\n",
       "      <th>first_name</th>\n",
       "      <th>last_name</th>\n",
       "      <th>reg_date</th>\n",
       "      <th>tariff</th>\n",
       "      <th>gb_used</th>\n",
       "    </tr>\n",
       "  </thead>\n",
       "  <tbody>\n",
       "    <tr>\n",
       "      <td>0</td>\n",
       "      <td>1000</td>\n",
       "      <td>159.0</td>\n",
       "      <td>22.0</td>\n",
       "      <td>2256.0</td>\n",
       "      <td>52</td>\n",
       "      <td>0</td>\n",
       "      <td>Краснодар</td>\n",
       "      <td>Рафаил</td>\n",
       "      <td>Верещагин</td>\n",
       "      <td>2018-05-25</td>\n",
       "      <td>ultra</td>\n",
       "      <td>3</td>\n",
       "    </tr>\n",
       "    <tr>\n",
       "      <td>1</td>\n",
       "      <td>1000</td>\n",
       "      <td>172.0</td>\n",
       "      <td>60.0</td>\n",
       "      <td>23257.0</td>\n",
       "      <td>52</td>\n",
       "      <td>0</td>\n",
       "      <td>Краснодар</td>\n",
       "      <td>Рафаил</td>\n",
       "      <td>Верещагин</td>\n",
       "      <td>2018-05-25</td>\n",
       "      <td>ultra</td>\n",
       "      <td>23</td>\n",
       "    </tr>\n",
       "    <tr>\n",
       "      <td>2</td>\n",
       "      <td>1000</td>\n",
       "      <td>340.0</td>\n",
       "      <td>75.0</td>\n",
       "      <td>14016.0</td>\n",
       "      <td>52</td>\n",
       "      <td>0</td>\n",
       "      <td>Краснодар</td>\n",
       "      <td>Рафаил</td>\n",
       "      <td>Верещагин</td>\n",
       "      <td>2018-05-25</td>\n",
       "      <td>ultra</td>\n",
       "      <td>14</td>\n",
       "    </tr>\n",
       "    <tr>\n",
       "      <td>3</td>\n",
       "      <td>1000</td>\n",
       "      <td>408.0</td>\n",
       "      <td>81.0</td>\n",
       "      <td>14070.0</td>\n",
       "      <td>52</td>\n",
       "      <td>0</td>\n",
       "      <td>Краснодар</td>\n",
       "      <td>Рафаил</td>\n",
       "      <td>Верещагин</td>\n",
       "      <td>2018-05-25</td>\n",
       "      <td>ultra</td>\n",
       "      <td>14</td>\n",
       "    </tr>\n",
       "    <tr>\n",
       "      <td>4</td>\n",
       "      <td>1000</td>\n",
       "      <td>466.0</td>\n",
       "      <td>57.0</td>\n",
       "      <td>14581.0</td>\n",
       "      <td>52</td>\n",
       "      <td>0</td>\n",
       "      <td>Краснодар</td>\n",
       "      <td>Рафаил</td>\n",
       "      <td>Верещагин</td>\n",
       "      <td>2018-05-25</td>\n",
       "      <td>ultra</td>\n",
       "      <td>15</td>\n",
       "    </tr>\n",
       "  </tbody>\n",
       "</table>\n",
       "</div>"
      ],
      "text/plain": [
       "   user_id  duration  count_sms  mb_used  age churn_date       city  \\\n",
       "0     1000     159.0       22.0   2256.0   52          0  Краснодар   \n",
       "1     1000     172.0       60.0  23257.0   52          0  Краснодар   \n",
       "2     1000     340.0       75.0  14016.0   52          0  Краснодар   \n",
       "3     1000     408.0       81.0  14070.0   52          0  Краснодар   \n",
       "4     1000     466.0       57.0  14581.0   52          0  Краснодар   \n",
       "\n",
       "  first_name  last_name    reg_date tariff  gb_used  \n",
       "0     Рафаил  Верещагин  2018-05-25  ultra        3  \n",
       "1     Рафаил  Верещагин  2018-05-25  ultra       23  \n",
       "2     Рафаил  Верещагин  2018-05-25  ultra       14  \n",
       "3     Рафаил  Верещагин  2018-05-25  ultra       14  \n",
       "4     Рафаил  Верещагин  2018-05-25  ultra       15  "
      ]
     },
     "execution_count": 51,
     "metadata": {},
     "output_type": "execute_result"
    }
   ],
   "source": [
    "fin_data.head()"
   ]
  },
  {
   "cell_type": "code",
   "execution_count": 52,
   "metadata": {},
   "outputs": [
    {
     "data": {
      "text/html": [
       "<div>\n",
       "<style scoped>\n",
       "    .dataframe tbody tr th:only-of-type {\n",
       "        vertical-align: middle;\n",
       "    }\n",
       "\n",
       "    .dataframe tbody tr th {\n",
       "        vertical-align: top;\n",
       "    }\n",
       "\n",
       "    .dataframe thead th {\n",
       "        text-align: right;\n",
       "    }\n",
       "</style>\n",
       "<table border=\"1\" class=\"dataframe\">\n",
       "  <thead>\n",
       "    <tr style=\"text-align: right;\">\n",
       "      <th></th>\n",
       "      <th>messages_included</th>\n",
       "      <th>mb_per_month_included</th>\n",
       "      <th>minutes_included</th>\n",
       "      <th>rub_monthly_fee</th>\n",
       "      <th>rub_per_gb</th>\n",
       "      <th>rub_per_message</th>\n",
       "      <th>rub_per_minute</th>\n",
       "      <th>tariff_name</th>\n",
       "      <th>gb_per_month_included</th>\n",
       "    </tr>\n",
       "  </thead>\n",
       "  <tbody>\n",
       "    <tr>\n",
       "      <td>0</td>\n",
       "      <td>50</td>\n",
       "      <td>15360</td>\n",
       "      <td>500</td>\n",
       "      <td>550</td>\n",
       "      <td>200</td>\n",
       "      <td>3</td>\n",
       "      <td>3</td>\n",
       "      <td>smart</td>\n",
       "      <td>15</td>\n",
       "    </tr>\n",
       "    <tr>\n",
       "      <td>1</td>\n",
       "      <td>1000</td>\n",
       "      <td>30720</td>\n",
       "      <td>3000</td>\n",
       "      <td>1950</td>\n",
       "      <td>150</td>\n",
       "      <td>1</td>\n",
       "      <td>1</td>\n",
       "      <td>ultra</td>\n",
       "      <td>30</td>\n",
       "    </tr>\n",
       "  </tbody>\n",
       "</table>\n",
       "</div>"
      ],
      "text/plain": [
       "   messages_included  mb_per_month_included  minutes_included  \\\n",
       "0                 50                  15360               500   \n",
       "1               1000                  30720              3000   \n",
       "\n",
       "   rub_monthly_fee  rub_per_gb  rub_per_message  rub_per_minute tariff_name  \\\n",
       "0              550         200                3               3       smart   \n",
       "1             1950         150                1               1       ultra   \n",
       "\n",
       "   gb_per_month_included  \n",
       "0                     15  \n",
       "1                     30  "
      ]
     },
     "execution_count": 52,
     "metadata": {},
     "output_type": "execute_result"
    }
   ],
   "source": [
    "df3"
   ]
  },
  {
   "cell_type": "code",
   "execution_count": 53,
   "metadata": {},
   "outputs": [
    {
     "name": "stdout",
     "output_type": "stream",
     "text": [
      "3215     502.916667\n",
      "2351     503.166667\n",
      "2458     503.416667\n",
      "2804     503.833333\n",
      "1620     503.916667\n",
      "           ...     \n",
      "159     1875.750000\n",
      "1498    1881.250000\n",
      "383     1887.333333\n",
      "3018    1888.500000\n",
      "782     1967.916667\n",
      "Name: money, Length: 3216, dtype: float64\n"
     ]
    }
   ],
   "source": [
    "def monthly_revenue(row):\n",
    "\n",
    "    money = 0\n",
    "\n",
    "    \n",
    "    tariff = row['tariff']\n",
    "    duration = row['duration']\n",
    "    count_sms = row['count_sms']\n",
    "    gb_used = row['gb_used']\n",
    "\n",
    "    \n",
    "    difference_calls = duration - int(df3[df3['tariff_name'] == tariff]['minutes_included'])\n",
    "    difference_messages = count_sms - int(df3[df3['tariff_name'] == tariff]['messages_included'])\n",
    "    difference_internet = gb_used - int(df3[df3['tariff_name'] == tariff]['gb_per_month_included']) \n",
    "# Если пользователь вышел за пределы лимитов, обозначенных в абонентской плате, то рассчитывается дополнительная оплата\n",
    "    if (difference_calls > 0):\n",
    "        money += difference_calls * int(df3[df3['tariff_name'] == tariff]['rub_per_minute'])\n",
    "        money += difference_messages * int(df3[df3['tariff_name'] == tariff]['rub_per_message'])\n",
    "    if difference_internet > 0:\n",
    "        money += difference_internet * int(df3[df3['tariff_name'] == tariff]['rub_per_gb'])\n",
    "    \n",
    "\n",
    "# Добавление ежемесячной абонентской платы\n",
    "    \n",
    "    money += difference_calls + difference_messages + difference_internet + int(df3[df3['tariff_name'] == tariff]['rub_monthly_fee'])*12\n",
    "    \n",
    "\n",
    "\n",
    "    return money\n",
    "\n",
    "fin_data['money'] = fin_data.apply(monthly_revenue, axis=1)\n",
    "fin_data['money']=fin_data['money']/12\n",
    "print(fin_data['money'].sort_values())\n"
   ]
  },
  {
   "cell_type": "code",
   "execution_count": 54,
   "metadata": {},
   "outputs": [
    {
     "data": {
      "text/html": [
       "<div>\n",
       "<style scoped>\n",
       "    .dataframe tbody tr th:only-of-type {\n",
       "        vertical-align: middle;\n",
       "    }\n",
       "\n",
       "    .dataframe tbody tr th {\n",
       "        vertical-align: top;\n",
       "    }\n",
       "\n",
       "    .dataframe thead th {\n",
       "        text-align: right;\n",
       "    }\n",
       "</style>\n",
       "<table border=\"1\" class=\"dataframe\">\n",
       "  <thead>\n",
       "    <tr style=\"text-align: right;\">\n",
       "      <th></th>\n",
       "      <th>mean</th>\n",
       "      <th>var</th>\n",
       "      <th>std</th>\n",
       "    </tr>\n",
       "    <tr>\n",
       "      <th>tariff</th>\n",
       "      <th></th>\n",
       "      <th></th>\n",
       "      <th></th>\n",
       "    </tr>\n",
       "  </thead>\n",
       "  <tbody>\n",
       "    <tr>\n",
       "      <td>smart</td>\n",
       "      <td>601.475299</td>\n",
       "      <td>5817.326115</td>\n",
       "      <td>76.271398</td>\n",
       "    </tr>\n",
       "    <tr>\n",
       "      <td>ultra</td>\n",
       "      <td>1673.820994</td>\n",
       "      <td>1930.652611</td>\n",
       "      <td>43.939192</td>\n",
       "    </tr>\n",
       "  </tbody>\n",
       "</table>\n",
       "</div>"
      ],
      "text/plain": [
       "               mean          var        std\n",
       "tariff                                     \n",
       "smart    601.475299  5817.326115  76.271398\n",
       "ultra   1673.820994  1930.652611  43.939192"
      ]
     },
     "execution_count": 54,
     "metadata": {},
     "output_type": "execute_result"
    }
   ],
   "source": [
    "pivot = fin_data.pivot_table(index=['tariff'], values='money',aggfunc= ['mean', 'var','std'])\n",
    "pivot.columns=['mean', 'var','std']\n",
    "pivot"
   ]
  },
  {
   "cell_type": "code",
   "execution_count": 55,
   "metadata": {},
   "outputs": [
    {
     "data": {
      "text/html": [
       "<div>\n",
       "<style scoped>\n",
       "    .dataframe tbody tr th:only-of-type {\n",
       "        vertical-align: middle;\n",
       "    }\n",
       "\n",
       "    .dataframe tbody tr th {\n",
       "        vertical-align: top;\n",
       "    }\n",
       "\n",
       "    .dataframe thead th {\n",
       "        text-align: right;\n",
       "    }\n",
       "</style>\n",
       "<table border=\"1\" class=\"dataframe\">\n",
       "  <thead>\n",
       "    <tr style=\"text-align: right;\">\n",
       "      <th></th>\n",
       "      <th></th>\n",
       "      <th>duration</th>\n",
       "      <th>count_sms</th>\n",
       "      <th>gb_used</th>\n",
       "    </tr>\n",
       "    <tr>\n",
       "      <th>tariff</th>\n",
       "      <th></th>\n",
       "      <th></th>\n",
       "      <th></th>\n",
       "      <th></th>\n",
       "    </tr>\n",
       "  </thead>\n",
       "  <tbody>\n",
       "    <tr>\n",
       "      <td rowspan=\"4\" valign=\"top\">smart</td>\n",
       "      <td>mean</td>\n",
       "      <td>418.0</td>\n",
       "      <td>33.0</td>\n",
       "      <td>16.0</td>\n",
       "    </tr>\n",
       "    <tr>\n",
       "      <td>median</td>\n",
       "      <td>422.0</td>\n",
       "      <td>28.0</td>\n",
       "      <td>17.0</td>\n",
       "    </tr>\n",
       "    <tr>\n",
       "      <td>var</td>\n",
       "      <td>36281.0</td>\n",
       "      <td>797.0</td>\n",
       "      <td>33.0</td>\n",
       "    </tr>\n",
       "    <tr>\n",
       "      <td>std</td>\n",
       "      <td>190.0</td>\n",
       "      <td>28.0</td>\n",
       "      <td>6.0</td>\n",
       "    </tr>\n",
       "    <tr>\n",
       "      <td rowspan=\"4\" valign=\"top\">ultra</td>\n",
       "      <td>mean</td>\n",
       "      <td>526.0</td>\n",
       "      <td>49.0</td>\n",
       "      <td>20.0</td>\n",
       "    </tr>\n",
       "    <tr>\n",
       "      <td>median</td>\n",
       "      <td>518.0</td>\n",
       "      <td>38.0</td>\n",
       "      <td>19.0</td>\n",
       "    </tr>\n",
       "    <tr>\n",
       "      <td>var</td>\n",
       "      <td>101052.0</td>\n",
       "      <td>2285.0</td>\n",
       "      <td>98.0</td>\n",
       "    </tr>\n",
       "    <tr>\n",
       "      <td>std</td>\n",
       "      <td>318.0</td>\n",
       "      <td>48.0</td>\n",
       "      <td>10.0</td>\n",
       "    </tr>\n",
       "  </tbody>\n",
       "</table>\n",
       "</div>"
      ],
      "text/plain": [
       "               duration  count_sms  gb_used\n",
       "tariff                                     \n",
       "smart  mean       418.0       33.0     16.0\n",
       "       median     422.0       28.0     17.0\n",
       "       var      36281.0      797.0     33.0\n",
       "       std        190.0       28.0      6.0\n",
       "ultra  mean       526.0       49.0     20.0\n",
       "       median     518.0       38.0     19.0\n",
       "       var     101052.0     2285.0     98.0\n",
       "       std        318.0       48.0     10.0"
      ]
     },
     "execution_count": 55,
     "metadata": {},
     "output_type": "execute_result"
    }
   ],
   "source": [
    "round(fin_data.groupby('tariff')[['duration', 'count_sms', 'gb_used']]\\\n",
    "      .agg(['mean','median','var','std']).stack())\\"
   ]
  },
  {
   "cell_type": "markdown",
   "metadata": {},
   "source": [
    "По полученым данным можно сказать, что тариф ультра самый уместный, потому что на переплату по этому тарифу попало всего лишь несколько человек. Чего нельзя сказать о тарифе смарт, объем которого, превышает почти каждый второй. Следовательно людям не хавает предложенного объема в тарифе смарт и экономичнее будет пользоваться тарифом ультра."
   ]
  },
  {
   "cell_type": "markdown",
   "metadata": {},
   "source": [
    "## Шаг 3. Проанализируйте данные. Опишите поведение клиентов оператора, исходя из выборки. Сколько минут разговора, сколько сообщений и какой объём интернет-трафика требуется пользователям каждого тарифа в месяц? Посчитайте среднее количество, дисперсию и стандартное отклонение. Постройте гистограммы. Опишите распределения.**"
   ]
  },
  {
   "cell_type": "code",
   "execution_count": 56,
   "metadata": {},
   "outputs": [
    {
     "data": {
      "text/html": [
       "<div>\n",
       "<style scoped>\n",
       "    .dataframe tbody tr th:only-of-type {\n",
       "        vertical-align: middle;\n",
       "    }\n",
       "\n",
       "    .dataframe tbody tr th {\n",
       "        vertical-align: top;\n",
       "    }\n",
       "\n",
       "    .dataframe thead th {\n",
       "        text-align: right;\n",
       "    }\n",
       "</style>\n",
       "<table border=\"1\" class=\"dataframe\">\n",
       "  <thead>\n",
       "    <tr style=\"text-align: right;\">\n",
       "      <th></th>\n",
       "      <th></th>\n",
       "      <th>duration</th>\n",
       "      <th>count_sms</th>\n",
       "      <th>gb_used</th>\n",
       "    </tr>\n",
       "    <tr>\n",
       "      <th>tariff</th>\n",
       "      <th></th>\n",
       "      <th></th>\n",
       "      <th></th>\n",
       "      <th></th>\n",
       "    </tr>\n",
       "  </thead>\n",
       "  <tbody>\n",
       "    <tr>\n",
       "      <td rowspan=\"3\" valign=\"top\">smart</td>\n",
       "      <td>mean</td>\n",
       "      <td>418.0</td>\n",
       "      <td>33.0</td>\n",
       "      <td>16.0</td>\n",
       "    </tr>\n",
       "    <tr>\n",
       "      <td>var</td>\n",
       "      <td>36281.0</td>\n",
       "      <td>797.0</td>\n",
       "      <td>33.0</td>\n",
       "    </tr>\n",
       "    <tr>\n",
       "      <td>std</td>\n",
       "      <td>190.0</td>\n",
       "      <td>28.0</td>\n",
       "      <td>6.0</td>\n",
       "    </tr>\n",
       "    <tr>\n",
       "      <td rowspan=\"3\" valign=\"top\">ultra</td>\n",
       "      <td>mean</td>\n",
       "      <td>526.0</td>\n",
       "      <td>49.0</td>\n",
       "      <td>20.0</td>\n",
       "    </tr>\n",
       "    <tr>\n",
       "      <td>var</td>\n",
       "      <td>101052.0</td>\n",
       "      <td>2285.0</td>\n",
       "      <td>98.0</td>\n",
       "    </tr>\n",
       "    <tr>\n",
       "      <td>std</td>\n",
       "      <td>318.0</td>\n",
       "      <td>48.0</td>\n",
       "      <td>10.0</td>\n",
       "    </tr>\n",
       "  </tbody>\n",
       "</table>\n",
       "</div>"
      ],
      "text/plain": [
       "             duration  count_sms  gb_used\n",
       "tariff                                   \n",
       "smart  mean     418.0       33.0     16.0\n",
       "       var    36281.0      797.0     33.0\n",
       "       std      190.0       28.0      6.0\n",
       "ultra  mean     526.0       49.0     20.0\n",
       "       var   101052.0     2285.0     98.0\n",
       "       std      318.0       48.0     10.0"
      ]
     },
     "execution_count": 56,
     "metadata": {},
     "output_type": "execute_result"
    }
   ],
   "source": [
    "round(fin_data.groupby('tariff')[['duration', 'count_sms', 'gb_used']]\\\n",
    "      .agg(['mean','var','std']).stack())\\"
   ]
  },
  {
   "cell_type": "code",
   "execution_count": 57,
   "metadata": {},
   "outputs": [
    {
     "data": {
      "image/png": "[encoded data removed]",
      "text/plain": [
       "<Figure size 432x288 with 1 Axes>"
      ]
     },
     "metadata": {},
     "output_type": "display_data"
    },
    {
     "data": {
      "image/png": "[encoded data removed]",
      "text/plain": [
       "<Figure size 432x288 with 1 Axes>"
      ]
     },
     "metadata": {},
     "output_type": "display_data"
    }
   ],
   "source": [
    "sns.set(style=\"darkgrid\")\n",
    "fin_data[fin_data['tariff'] == 'smart'].hist('duration',bins=40)\n",
    "plt.title('duration_smart', fontweight='normal', color='k', fontsize=16)\n",
    "plt.xlabel('call duration', fontweight='bold', fontsize=16)\n",
    "plt.ylabel('count', fontweight='light', fontsize=14)\n",
    "plt.grid(True)\n",
    "plt.show()\n",
    "fin_data[fin_data['tariff'] == 'ultra'].hist('duration',range=(0,1500),bins=40)\n",
    "plt.title('duration_ultra', fontweight='normal', color='k', fontsize=16)\n",
    "plt.xlabel('call duration', fontweight='bold', fontsize=16)\n",
    "plt.ylabel('count', fontweight='light', fontsize=14)\n",
    "plt.grid(True)"
   ]
  },
  {
   "cell_type": "markdown",
   "metadata": {},
   "source": [
    "По графикам можно заметить, что клиенты тарифа смарт практически полностью используют твой тарифный план по минутам и большинство используют сверх него и переплачивают, в отличии от клиентов тарифа ультра, которые не используют даже весь покет."
   ]
  },
  {
   "cell_type": "code",
   "execution_count": 58,
   "metadata": {},
   "outputs": [
    {
     "data": {
      "image/png": "[encoded data removed]",
      "text/plain": [
       "<Figure size 432x288 with 1 Axes>"
      ]
     },
     "metadata": {},
     "output_type": "display_data"
    },
    {
     "data": {
      "image/png": "[encoded data removed]",
      "text/plain": [
       "<Figure size 432x288 with 1 Axes>"
      ]
     },
     "metadata": {},
     "output_type": "display_data"
    }
   ],
   "source": [
    "fin_data[fin_data['tariff'] == 'smart'].hist('count_sms',bins=40)\n",
    "plt.title('count_sms_smart', fontweight='normal', color='k', fontsize=16)\n",
    "plt.xlabel('count_sms', fontweight='bold', fontsize=16)\n",
    "plt.ylabel('count', fontweight='light', fontsize=14)\n",
    "plt.grid(True)\n",
    "plt.show()\n",
    "fin_data[fin_data['tariff'] == 'ultra'].hist('count_sms',bins=40)\n",
    "plt.title('count_sms_ultra', fontweight='normal', color='k', fontsize=16)\n",
    "plt.xlabel('count_sms', fontweight='bold', fontsize=16)\n",
    "plt.ylabel('count', fontweight='light', fontsize=14)\n",
    "plt.grid(True)"
   ]
  },
  {
   "cell_type": "markdown",
   "metadata": {},
   "source": [
    "Аналогичную ситуацию можно отметить и в отправке сообщений."
   ]
  },
  {
   "cell_type": "code",
   "execution_count": 59,
   "metadata": {},
   "outputs": [
    {
     "data": {
      "image/png": "[encoded data removed]",
      "text/plain": [
       "<Figure size 432x288 with 1 Axes>"
      ]
     },
     "metadata": {},
     "output_type": "display_data"
    },
    {
     "data": {
      "image/png": "[encoded data removed]",
      "text/plain": [
       "<Figure size 432x288 with 1 Axes>"
      ]
     },
     "metadata": {},
     "output_type": "display_data"
    }
   ],
   "source": [
    "fin_data[fin_data['tariff'] == 'smart'].hist('gb_used',bins=40)\n",
    "plt.title('gb_used_smart', fontweight='normal', color='k', fontsize=16)\n",
    "plt.xlabel('gb_used', fontweight='bold', fontsize=16)\n",
    "plt.ylabel('count', fontweight='light', fontsize=14)\n",
    "plt.grid(True)\n",
    "plt.show()\n",
    "fin_data[fin_data['tariff'] == 'ultra'].hist('gb_used',bins=40)\n",
    "plt.title('gb_used_ultra', fontweight='normal', color='k', fontsize=16)\n",
    "plt.xlabel('gb_used', fontweight='bold', fontsize=16)\n",
    "plt.ylabel('count', fontweight='light', fontsize=14)\n",
    "plt.grid(True)"
   ]
  },
  {
   "cell_type": "markdown",
   "metadata": {},
   "source": [
    "Средний объем использования интернета перевалил за критическое значение тарифа смарт, чего нельзя сказать о трарифе ультра."
   ]
  },
  {
   "cell_type": "markdown",
   "metadata": {},
   "source": [
    "По всему тарифу можно сделать вывод, что клиенты мало кому звонят и пишут смс и в основном пользуются только интернетом, возможно, потому что в наше время удобнее общаться только по интернету. "
   ]
  },
  {
   "cell_type": "code",
   "execution_count": 60,
   "metadata": {},
   "outputs": [
    {
     "data": {
      "image/png": "[encoded data removed]",
      "text/plain": [
       "<Figure size 432x288 with 1 Axes>"
      ]
     },
     "metadata": {},
     "output_type": "display_data"
    },
    {
     "data": {
      "image/png": "[encoded data removed]",
      "text/plain": [
       "<Figure size 432x288 with 1 Axes>"
      ]
     },
     "metadata": {},
     "output_type": "display_data"
    }
   ],
   "source": [
    "fin_data[fin_data['tariff'] == 'smart'].hist('money',range=(500,1000),bins=40)\n",
    "plt.title('expenses_smart', fontweight='normal', color='k', fontsize=16)\n",
    "plt.xlabel('expenses', fontweight='bold', fontsize=16)\n",
    "plt.ylabel('count', fontweight='light', fontsize=14)\n",
    "plt.grid(True)\n",
    "plt.show()\n",
    "fin_data[fin_data['tariff'] == 'ultra'].hist('money',range=(1600,1900),bins=40)\n",
    "plt.title('expenses_ultra', fontweight='normal', color='k', fontsize=16)\n",
    "plt.xlabel('expenses', fontweight='bold', fontsize=16)\n",
    "plt.ylabel('count', fontweight='light', fontsize=14)\n",
    "plt.grid(True)"
   ]
  },
  {
   "cell_type": "markdown",
   "metadata": {},
   "source": [
    "Можно заметить, что большинство клиентов, которые переплачивают, используют тариф смарт. "
   ]
  },
  {
   "cell_type": "code",
   "execution_count": 61,
   "metadata": {},
   "outputs": [
    {
     "data": {
      "image/png": "[encoded data removed]",
      "text/plain": [
       "<Figure size 432x288 with 1 Axes>"
      ]
     },
     "metadata": {},
     "output_type": "display_data"
    },
    {
     "data": {
      "image/png": "[encoded data removed]",
      "text/plain": [
       "<Figure size 432x288 with 1 Axes>"
      ]
     },
     "metadata": {},
     "output_type": "display_data"
    }
   ],
   "source": [
    "fin_data[fin_data['tariff'] == 'smart'].hist('money',bins=40)\n",
    "plt.title('expenses_smart', fontweight='normal', color='k', fontsize=16)\n",
    "plt.xlabel('expenses', fontweight='bold', fontsize=16)\n",
    "plt.ylabel('count', fontweight='light', fontsize=14)\n",
    "plt.grid(True)\n",
    "plt.show()\n",
    "fin_data[fin_data['tariff'] == 'ultra'].hist('money',bins=40)\n",
    "plt.title('expenses_ultra', fontweight='normal', color='k', fontsize=16)\n",
    "plt.xlabel('expenses', fontweight='bold', fontsize=16)\n",
    "plt.ylabel('count', fontweight='light', fontsize=14)\n",
    "plt.grid(True)"
   ]
  },
  {
   "cell_type": "markdown",
   "metadata": {},
   "source": [
    "## Шаг 4. Проверьте гипотезы\n"
   ]
  },
  {
   "cell_type": "markdown",
   "metadata": {},
   "source": [
    "### Гипотеза 1: средняя выручка пользователей тарифов «Ультра» и «Смарт» различается."
   ]
  },
  {
   "cell_type": "markdown",
   "metadata": {},
   "source": [
    "Нулевая гипотеза - средняя выручка с абонентов обоих тарифов одинакова. Альтернативная гипотеза - средняя выручка с абонентов обоих тарифов различается."
   ]
  },
  {
   "cell_type": "code",
   "execution_count": 62,
   "metadata": {},
   "outputs": [
    {
     "data": {
      "text/plain": [
       "8       607\n",
       "9       538\n",
       "10      513\n",
       "11      573\n",
       "12      613\n",
       "       ... \n",
       "3210    540\n",
       "3211    589\n",
       "3212    556\n",
       "3213    540\n",
       "3215    502\n",
       "Name: money, Length: 2230, dtype: int64"
      ]
     },
     "execution_count": 62,
     "metadata": {},
     "output_type": "execute_result"
    }
   ],
   "source": [
    "fin_data['money'] = fin_data['money'].astype(int)\n",
    "\n",
    "smart=fin_data.query('tariff == \"smart\"')['money']                                                    \n",
    "ultra=fin_data.query('tariff == \"ultra\"')['money']\n",
    "smart"
   ]
  },
  {
   "cell_type": "code",
   "execution_count": 63,
   "metadata": {},
   "outputs": [
    {
     "name": "stdout",
     "output_type": "stream",
     "text": [
      "p-значение: 0.0\n",
      "Отвергаем нулевую гипотезу\n"
     ]
    }
   ],
   "source": [
    "alpha=0.05\n",
    "results = st.ttest_ind(smart, ultra, equal_var=False)\n",
    "print('p-значение:', results.pvalue)\n",
    "\n",
    "if results.pvalue < alpha:\n",
    "    print(\"Отвергаем нулевую гипотезу\")\n",
    "else:\n",
    "    print(\"Не получилось отвергнуть нулевую гипотезу\")\n",
    "  "
   ]
  },
  {
   "cell_type": "markdown",
   "metadata": {},
   "source": [
    "### Гипотеза 2: средняя выручка пользователей из Москвы отличается от выручки пользователей из других регионов;"
   ]
  },
  {
   "cell_type": "markdown",
   "metadata": {},
   "source": [
    "Нулевая гипотеза - средняя выручка с пользователей, проживающих в Москве равна средней выручке от жителей других регионов. Альтернаятивная гипотеза - средняя выручка с пользователей, проживающих в Москве не равна средней выручке от жителей других регионов."
   ]
  },
  {
   "cell_type": "code",
   "execution_count": 64,
   "metadata": {},
   "outputs": [
    {
     "data": {
      "text/html": [
       "<div>\n",
       "<style scoped>\n",
       "    .dataframe tbody tr th:only-of-type {\n",
       "        vertical-align: middle;\n",
       "    }\n",
       "\n",
       "    .dataframe tbody tr th {\n",
       "        vertical-align: top;\n",
       "    }\n",
       "\n",
       "    .dataframe thead th {\n",
       "        text-align: right;\n",
       "    }\n",
       "</style>\n",
       "<table border=\"1\" class=\"dataframe\">\n",
       "  <thead>\n",
       "    <tr style=\"text-align: right;\">\n",
       "      <th></th>\n",
       "      <th>user_id</th>\n",
       "      <th>duration</th>\n",
       "      <th>count_sms</th>\n",
       "      <th>mb_used</th>\n",
       "      <th>age</th>\n",
       "      <th>churn_date</th>\n",
       "      <th>city</th>\n",
       "      <th>first_name</th>\n",
       "      <th>last_name</th>\n",
       "      <th>reg_date</th>\n",
       "      <th>tariff</th>\n",
       "      <th>gb_used</th>\n",
       "      <th>money</th>\n",
       "    </tr>\n",
       "  </thead>\n",
       "  <tbody>\n",
       "    <tr>\n",
       "      <td>0</td>\n",
       "      <td>1000</td>\n",
       "      <td>159.0</td>\n",
       "      <td>22.0</td>\n",
       "      <td>2256.0</td>\n",
       "      <td>52</td>\n",
       "      <td>0</td>\n",
       "      <td>Краснодар</td>\n",
       "      <td>Рафаил</td>\n",
       "      <td>Верещагин</td>\n",
       "      <td>2018-05-25</td>\n",
       "      <td>ultra</td>\n",
       "      <td>3</td>\n",
       "      <td>1629</td>\n",
       "    </tr>\n",
       "    <tr>\n",
       "      <td>1</td>\n",
       "      <td>1000</td>\n",
       "      <td>172.0</td>\n",
       "      <td>60.0</td>\n",
       "      <td>23257.0</td>\n",
       "      <td>52</td>\n",
       "      <td>0</td>\n",
       "      <td>Краснодар</td>\n",
       "      <td>Рафаил</td>\n",
       "      <td>Верещагин</td>\n",
       "      <td>2018-05-25</td>\n",
       "      <td>ultra</td>\n",
       "      <td>23</td>\n",
       "      <td>1635</td>\n",
       "    </tr>\n",
       "    <tr>\n",
       "      <td>2</td>\n",
       "      <td>1000</td>\n",
       "      <td>340.0</td>\n",
       "      <td>75.0</td>\n",
       "      <td>14016.0</td>\n",
       "      <td>52</td>\n",
       "      <td>0</td>\n",
       "      <td>Краснодар</td>\n",
       "      <td>Рафаил</td>\n",
       "      <td>Верещагин</td>\n",
       "      <td>2018-05-25</td>\n",
       "      <td>ultra</td>\n",
       "      <td>14</td>\n",
       "      <td>1649</td>\n",
       "    </tr>\n",
       "    <tr>\n",
       "      <td>3</td>\n",
       "      <td>1000</td>\n",
       "      <td>408.0</td>\n",
       "      <td>81.0</td>\n",
       "      <td>14070.0</td>\n",
       "      <td>52</td>\n",
       "      <td>0</td>\n",
       "      <td>Краснодар</td>\n",
       "      <td>Рафаил</td>\n",
       "      <td>Верещагин</td>\n",
       "      <td>2018-05-25</td>\n",
       "      <td>ultra</td>\n",
       "      <td>14</td>\n",
       "      <td>1656</td>\n",
       "    </tr>\n",
       "    <tr>\n",
       "      <td>4</td>\n",
       "      <td>1000</td>\n",
       "      <td>466.0</td>\n",
       "      <td>57.0</td>\n",
       "      <td>14581.0</td>\n",
       "      <td>52</td>\n",
       "      <td>0</td>\n",
       "      <td>Краснодар</td>\n",
       "      <td>Рафаил</td>\n",
       "      <td>Верещагин</td>\n",
       "      <td>2018-05-25</td>\n",
       "      <td>ultra</td>\n",
       "      <td>15</td>\n",
       "      <td>1659</td>\n",
       "    </tr>\n",
       "  </tbody>\n",
       "</table>\n",
       "</div>"
      ],
      "text/plain": [
       "   user_id  duration  count_sms  mb_used  age churn_date       city  \\\n",
       "0     1000     159.0       22.0   2256.0   52          0  Краснодар   \n",
       "1     1000     172.0       60.0  23257.0   52          0  Краснодар   \n",
       "2     1000     340.0       75.0  14016.0   52          0  Краснодар   \n",
       "3     1000     408.0       81.0  14070.0   52          0  Краснодар   \n",
       "4     1000     466.0       57.0  14581.0   52          0  Краснодар   \n",
       "\n",
       "  first_name  last_name    reg_date tariff  gb_used  money  \n",
       "0     Рафаил  Верещагин  2018-05-25  ultra        3   1629  \n",
       "1     Рафаил  Верещагин  2018-05-25  ultra       23   1635  \n",
       "2     Рафаил  Верещагин  2018-05-25  ultra       14   1649  \n",
       "3     Рафаил  Верещагин  2018-05-25  ultra       14   1656  \n",
       "4     Рафаил  Верещагин  2018-05-25  ultra       15   1659  "
      ]
     },
     "execution_count": 64,
     "metadata": {},
     "output_type": "execute_result"
    }
   ],
   "source": [
    "fin_data.head()"
   ]
  },
  {
   "cell_type": "code",
   "execution_count": 65,
   "metadata": {},
   "outputs": [],
   "source": [
    "moscow_users=fin_data.query('city == \"Москва\"')['money']\n",
    "\n",
    "other_users=fin_data.query('city !=\"Москва\"')['money']\n"
   ]
  },
  {
   "cell_type": "code",
   "execution_count": 66,
   "metadata": {},
   "outputs": [
    {
     "name": "stdout",
     "output_type": "stream",
     "text": [
      "p-значение: 0.0006622983089976827\n",
      "Отвергаем нулевую гипотезу\n"
     ]
    }
   ],
   "source": [
    "alpha=0.05\n",
    "results = st.ttest_ind(moscow_users, other_users, equal_var=False)\n",
    "print('p-значение:', results.pvalue)\n",
    "\n",
    "if results.pvalue < alpha:\n",
    "    print(\"Отвергаем нулевую гипотезу\")\n",
    "else:\n",
    "    print(\"Не получилось отвергнуть нулевую гипотезу\")"
   ]
  },
  {
   "cell_type": "markdown",
   "metadata": {},
   "source": [
    "Для обоих задач была применена гипотеза о равенстве средних двух генеральных совокупностей, тк в задании от нас требовалось сравнить средние значения по выборкам. Первая гипотеза была доказана, тк нулевая, говорящая о их равенстве была отвергнута, а вторая нет, тк нулевую гипотезу отмести не удалось, вероятно это связано с тем, что выборка москвичей меньше."
   ]
  },
  {
   "cell_type": "markdown",
   "metadata": {},
   "source": [
    "## Общий вывод"
   ]
  },
  {
   "cell_type": "markdown",
   "metadata": {},
   "source": [
    "По всему этому можно сделать простой вывод- скупой платит дважды. Отчевидно, что в тарифе смарт очень низкая грань для перерасхода трафика, клиенту кажется, что он платит мало, но по итогу он платит в разы больше, чем если он выбрал тариф ультра. Так как в тарифе ультра представлен хороший бесплатный объем трафика, выше которого мало кто переходит, соответсвенно не переплачивает и даже экономит в отличии от клиентов на тарифе смарт."
   ]
  },
  {
   "cell_type": "markdown",
   "metadata": {},
   "source": [
    "Если рассматривать сторону компании Мегалайн, то стоит вложить усилия в тариф смарт, потому что клиентов привлекает низкая стоимоть тарифа, не подозревая о том, что они по итогу переплатят."
   ]
  },
  {
   "cell_type": "code",
   "execution_count": null,
   "metadata": {},
   "outputs": [],
   "source": []
  }
 ],
 "metadata": {
  "ExecuteTimeLog": [
   {
    "duration": 294,
    "start_time": "2021-12-14T12:07:58.705Z"
   },
   {
    "duration": 1168,
    "start_time": "2021-12-14T12:08:07.747Z"
   },
   {
    "duration": 398,
    "start_time": "2021-12-14T12:08:08.917Z"
   },
   {
    "duration": 11,
    "start_time": "2021-12-14T12:08:09.317Z"
   },
   {
    "duration": 7,
    "start_time": "2021-12-14T12:08:09.330Z"
   },
   {
    "duration": 10,
    "start_time": "2021-12-14T12:08:09.338Z"
   },
   {
    "duration": 10,
    "start_time": "2021-12-14T12:08:09.350Z"
   },
   {
    "duration": 21,
    "start_time": "2021-12-14T12:08:09.361Z"
   },
   {
    "duration": 50,
    "start_time": "2021-12-14T12:08:09.385Z"
   },
   {
    "duration": 179,
    "start_time": "2021-12-14T12:08:09.438Z"
   },
   {
    "duration": 44,
    "start_time": "2021-12-14T12:08:09.619Z"
   },
   {
    "duration": 112,
    "start_time": "2021-12-14T12:08:09.665Z"
   },
   {
    "duration": 23,
    "start_time": "2021-12-14T12:08:09.778Z"
   },
   {
    "duration": 685,
    "start_time": "2021-12-14T12:08:09.803Z"
   },
   {
    "duration": 84,
    "start_time": "2021-12-14T12:08:10.490Z"
   },
   {
    "duration": 55,
    "start_time": "2021-12-14T12:08:10.575Z"
   },
   {
    "duration": 33,
    "start_time": "2021-12-14T12:08:10.631Z"
   },
   {
    "duration": 91,
    "start_time": "2021-12-14T12:08:10.665Z"
   },
   {
    "duration": 88,
    "start_time": "2021-12-14T12:08:10.763Z"
   },
   {
    "duration": 27,
    "start_time": "2021-12-14T12:08:10.860Z"
   },
   {
    "duration": 281,
    "start_time": "2021-12-14T12:08:10.889Z"
   },
   {
    "duration": 8,
    "start_time": "2021-12-14T12:08:11.172Z"
   },
   {
    "duration": 47,
    "start_time": "2021-12-14T12:08:11.182Z"
   },
   {
    "duration": 31,
    "start_time": "2021-12-14T12:08:11.232Z"
   },
   {
    "duration": 50,
    "start_time": "2021-12-14T12:08:11.265Z"
   },
   {
    "duration": 49,
    "start_time": "2021-12-14T12:08:11.317Z"
   },
   {
    "duration": 12,
    "start_time": "2021-12-14T12:08:11.367Z"
   },
   {
    "duration": 255,
    "start_time": "2021-12-14T12:08:11.381Z"
   },
   {
    "duration": 7,
    "start_time": "2021-12-14T12:08:11.638Z"
   },
   {
    "duration": 49,
    "start_time": "2021-12-14T12:08:11.647Z"
   },
   {
    "duration": 10,
    "start_time": "2021-12-14T12:08:11.698Z"
   },
   {
    "duration": 56,
    "start_time": "2021-12-14T12:08:11.709Z"
   },
   {
    "duration": 12,
    "start_time": "2021-12-14T12:08:11.767Z"
   },
   {
    "duration": 19,
    "start_time": "2021-12-14T12:08:11.780Z"
   },
   {
    "duration": 314,
    "start_time": "2021-12-14T12:08:11.801Z"
   },
   {
    "duration": 284,
    "start_time": "2021-12-14T12:08:12.117Z"
   },
   {
    "duration": 11,
    "start_time": "2021-12-14T12:08:12.403Z"
   },
   {
    "duration": 362,
    "start_time": "2021-12-14T12:08:12.416Z"
   },
   {
    "duration": 12,
    "start_time": "2021-12-14T12:08:12.779Z"
   },
   {
    "duration": 296,
    "start_time": "2021-12-14T12:08:12.793Z"
   },
   {
    "duration": 20,
    "start_time": "2021-12-14T12:08:13.091Z"
   },
   {
    "duration": 4,
    "start_time": "2021-12-14T12:08:13.113Z"
   },
   {
    "duration": 14,
    "start_time": "2021-12-14T12:08:13.118Z"
   },
   {
    "duration": 42,
    "start_time": "2021-12-14T12:08:13.133Z"
   },
   {
    "duration": 7,
    "start_time": "2021-12-14T12:08:13.177Z"
   },
   {
    "duration": 12,
    "start_time": "2021-12-14T12:08:13.185Z"
   },
   {
    "duration": 9,
    "start_time": "2021-12-14T12:08:13.198Z"
   },
   {
    "duration": 6,
    "start_time": "2021-12-14T12:08:13.209Z"
   },
   {
    "duration": 7,
    "start_time": "2021-12-14T12:08:13.217Z"
   },
   {
    "duration": 6,
    "start_time": "2021-12-14T12:08:13.225Z"
   },
   {
    "duration": 10,
    "start_time": "2021-12-14T12:08:13.233Z"
   },
   {
    "duration": 19,
    "start_time": "2021-12-14T12:08:13.245Z"
   },
   {
    "duration": 7,
    "start_time": "2021-12-14T12:08:13.266Z"
   },
   {
    "duration": 8745,
    "start_time": "2021-12-14T12:08:13.275Z"
   },
   {
    "duration": 23,
    "start_time": "2021-12-14T12:08:22.022Z"
   },
   {
    "duration": 42,
    "start_time": "2021-12-14T12:08:22.047Z"
   },
   {
    "duration": 24,
    "start_time": "2021-12-14T12:08:22.090Z"
   },
   {
    "duration": 631,
    "start_time": "2021-12-14T12:08:22.115Z"
   },
   {
    "duration": 617,
    "start_time": "2021-12-14T12:08:22.748Z"
   },
   {
    "duration": 715,
    "start_time": "2021-12-14T12:08:23.367Z"
   },
   {
    "duration": 615,
    "start_time": "2021-12-14T12:08:24.084Z"
   },
   {
    "duration": 627,
    "start_time": "2021-12-14T12:08:24.701Z"
   },
   {
    "duration": 13,
    "start_time": "2021-12-14T12:08:25.330Z"
   },
   {
    "duration": 21,
    "start_time": "2021-12-14T12:08:25.345Z"
   },
   {
    "duration": 13,
    "start_time": "2021-12-14T12:08:25.368Z"
   },
   {
    "duration": 13,
    "start_time": "2021-12-14T12:08:25.383Z"
   },
   {
    "duration": 7,
    "start_time": "2021-12-14T12:08:25.397Z"
   },
   {
    "duration": 8,
    "start_time": "2021-12-14T12:08:50.336Z"
   },
   {
    "duration": 11,
    "start_time": "2021-12-14T12:08:52.207Z"
   },
   {
    "duration": 12,
    "start_time": "2021-12-14T12:09:42.152Z"
   },
   {
    "duration": 19,
    "start_time": "2021-12-14T12:10:17.040Z"
   }
  ],
  "kernelspec": {
   "display_name": "Python 3",
   "language": "python",
   "name": "python3"
  },
  "language_info": {
   "codemirror_mode": {
    "name": "ipython",
    "version": 3
   },
   "file_extension": ".py",
   "mimetype": "text/x-python",
   "name": "python",
   "nbconvert_exporter": "python",
   "pygments_lexer": "ipython3",
   "version": "3.7.8"
  },
  "toc": {
   "base_numbering": 1,
   "nav_menu": {},
   "number_sections": true,
   "sideBar": true,
   "skip_h1_title": true,
   "title_cell": "Table of Contents",
   "title_sidebar": "Contents",
   "toc_cell": true,
   "toc_position": {},
   "toc_section_display": true,
   "toc_window_display": false
  }
 },
 "nbformat": 4,
 "nbformat_minor": 2
}
